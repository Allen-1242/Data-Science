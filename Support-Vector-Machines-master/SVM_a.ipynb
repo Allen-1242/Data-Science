{
 "cells": [
  {
   "cell_type": "code",
   "execution_count": 1,
   "metadata": {},
   "outputs": [],
   "source": [
    "import pandas as pd\n",
    "import numpy as np\n",
    "import matplotlib.pyplot as plt\n",
    "from sklearn import svm, datasets"
   ]
  },
  {
   "cell_type": "code",
   "execution_count": 2,
   "metadata": {},
   "outputs": [
    {
     "data": {
      "text/html": [
       "<div>\n",
       "<style scoped>\n",
       "    .dataframe tbody tr th:only-of-type {\n",
       "        vertical-align: middle;\n",
       "    }\n",
       "\n",
       "    .dataframe tbody tr th {\n",
       "        vertical-align: top;\n",
       "    }\n",
       "\n",
       "    .dataframe thead th {\n",
       "        text-align: right;\n",
       "    }\n",
       "</style>\n",
       "<table border=\"1\" class=\"dataframe\">\n",
       "  <thead>\n",
       "    <tr style=\"text-align: right;\">\n",
       "      <th></th>\n",
       "      <th>0</th>\n",
       "      <th>1</th>\n",
       "      <th>2</th>\n",
       "      <th>3</th>\n",
       "      <th>4</th>\n",
       "      <th>5</th>\n",
       "      <th>6</th>\n",
       "      <th>7</th>\n",
       "      <th>8</th>\n",
       "      <th>9</th>\n",
       "      <th>...</th>\n",
       "      <th>246</th>\n",
       "      <th>247</th>\n",
       "      <th>248</th>\n",
       "      <th>249</th>\n",
       "      <th>250</th>\n",
       "      <th>251</th>\n",
       "      <th>252</th>\n",
       "      <th>253</th>\n",
       "      <th>254</th>\n",
       "      <th>255</th>\n",
       "    </tr>\n",
       "  </thead>\n",
       "  <tbody>\n",
       "    <tr>\n",
       "      <th>0</th>\n",
       "      <td>0.0</td>\n",
       "      <td>0.0</td>\n",
       "      <td>0.00</td>\n",
       "      <td>0.00</td>\n",
       "      <td>0.95</td>\n",
       "      <td>11.91</td>\n",
       "      <td>49.02</td>\n",
       "      <td>106.96</td>\n",
       "      <td>152.14</td>\n",
       "      <td>157.77</td>\n",
       "      <td>...</td>\n",
       "      <td>145.84</td>\n",
       "      <td>154.03</td>\n",
       "      <td>152.60</td>\n",
       "      <td>142.38</td>\n",
       "      <td>125.40</td>\n",
       "      <td>100.57</td>\n",
       "      <td>69.80</td>\n",
       "      <td>38.67</td>\n",
       "      <td>14.58</td>\n",
       "      <td>2.80</td>\n",
       "    </tr>\n",
       "    <tr>\n",
       "      <th>1</th>\n",
       "      <td>0.0</td>\n",
       "      <td>0.0</td>\n",
       "      <td>3.31</td>\n",
       "      <td>19.03</td>\n",
       "      <td>51.45</td>\n",
       "      <td>87.66</td>\n",
       "      <td>106.14</td>\n",
       "      <td>102.35</td>\n",
       "      <td>96.37</td>\n",
       "      <td>106.66</td>\n",
       "      <td>...</td>\n",
       "      <td>125.28</td>\n",
       "      <td>141.59</td>\n",
       "      <td>145.34</td>\n",
       "      <td>135.52</td>\n",
       "      <td>110.81</td>\n",
       "      <td>74.17</td>\n",
       "      <td>36.65</td>\n",
       "      <td>11.53</td>\n",
       "      <td>1.81</td>\n",
       "      <td>0.07</td>\n",
       "    </tr>\n",
       "    <tr>\n",
       "      <th>2</th>\n",
       "      <td>0.0</td>\n",
       "      <td>0.0</td>\n",
       "      <td>0.02</td>\n",
       "      <td>1.86</td>\n",
       "      <td>12.63</td>\n",
       "      <td>42.03</td>\n",
       "      <td>84.17</td>\n",
       "      <td>104.87</td>\n",
       "      <td>79.06</td>\n",
       "      <td>32.90</td>\n",
       "      <td>...</td>\n",
       "      <td>158.29</td>\n",
       "      <td>150.08</td>\n",
       "      <td>134.27</td>\n",
       "      <td>113.54</td>\n",
       "      <td>85.57</td>\n",
       "      <td>52.14</td>\n",
       "      <td>23.76</td>\n",
       "      <td>7.75</td>\n",
       "      <td>1.76</td>\n",
       "      <td>0.23</td>\n",
       "    </tr>\n",
       "    <tr>\n",
       "      <th>3</th>\n",
       "      <td>0.0</td>\n",
       "      <td>0.0</td>\n",
       "      <td>0.00</td>\n",
       "      <td>0.01</td>\n",
       "      <td>5.93</td>\n",
       "      <td>33.21</td>\n",
       "      <td>75.00</td>\n",
       "      <td>85.97</td>\n",
       "      <td>51.36</td>\n",
       "      <td>14.25</td>\n",
       "      <td>...</td>\n",
       "      <td>157.26</td>\n",
       "      <td>156.53</td>\n",
       "      <td>139.58</td>\n",
       "      <td>104.68</td>\n",
       "      <td>63.12</td>\n",
       "      <td>28.38</td>\n",
       "      <td>8.15</td>\n",
       "      <td>1.11</td>\n",
       "      <td>0.02</td>\n",
       "      <td>0.00</td>\n",
       "    </tr>\n",
       "    <tr>\n",
       "      <th>4</th>\n",
       "      <td>0.0</td>\n",
       "      <td>0.0</td>\n",
       "      <td>0.94</td>\n",
       "      <td>8.57</td>\n",
       "      <td>32.06</td>\n",
       "      <td>63.96</td>\n",
       "      <td>74.10</td>\n",
       "      <td>50.12</td>\n",
       "      <td>18.39</td>\n",
       "      <td>2.83</td>\n",
       "      <td>...</td>\n",
       "      <td>93.12</td>\n",
       "      <td>87.66</td>\n",
       "      <td>59.11</td>\n",
       "      <td>26.47</td>\n",
       "      <td>8.72</td>\n",
       "      <td>2.48</td>\n",
       "      <td>0.42</td>\n",
       "      <td>0.00</td>\n",
       "      <td>0.00</td>\n",
       "      <td>0.00</td>\n",
       "    </tr>\n",
       "  </tbody>\n",
       "</table>\n",
       "<p>5 rows × 256 columns</p>\n",
       "</div>"
      ],
      "text/plain": [
       "   0    1     2      3      4      5       6       7       8       9    ...   \\\n",
       "0  0.0  0.0  0.00   0.00   0.95  11.91   49.02  106.96  152.14  157.77  ...    \n",
       "1  0.0  0.0  3.31  19.03  51.45  87.66  106.14  102.35   96.37  106.66  ...    \n",
       "2  0.0  0.0  0.02   1.86  12.63  42.03   84.17  104.87   79.06   32.90  ...    \n",
       "3  0.0  0.0  0.00   0.01   5.93  33.21   75.00   85.97   51.36   14.25  ...    \n",
       "4  0.0  0.0  0.94   8.57  32.06  63.96   74.10   50.12   18.39    2.83  ...    \n",
       "\n",
       "      246     247     248     249     250     251    252    253    254   255  \n",
       "0  145.84  154.03  152.60  142.38  125.40  100.57  69.80  38.67  14.58  2.80  \n",
       "1  125.28  141.59  145.34  135.52  110.81   74.17  36.65  11.53   1.81  0.07  \n",
       "2  158.29  150.08  134.27  113.54   85.57   52.14  23.76   7.75   1.76  0.23  \n",
       "3  157.26  156.53  139.58  104.68   63.12   28.38   8.15   1.11   0.02  0.00  \n",
       "4   93.12   87.66   59.11   26.47    8.72    2.48   0.42   0.00   0.00  0.00  \n",
       "\n",
       "[5 rows x 256 columns]"
      ]
     },
     "execution_count": 2,
     "metadata": {},
     "output_type": "execute_result"
    }
   ],
   "source": [
    "df=pd.read_csv(\"uspsdata.txt\",delimiter=\"\\t\", header = None)\n",
    "df.head()"
   ]
  },
  {
   "cell_type": "code",
   "execution_count": 3,
   "metadata": {},
   "outputs": [
    {
     "data": {
      "text/html": [
       "<div>\n",
       "<style scoped>\n",
       "    .dataframe tbody tr th:only-of-type {\n",
       "        vertical-align: middle;\n",
       "    }\n",
       "\n",
       "    .dataframe tbody tr th {\n",
       "        vertical-align: top;\n",
       "    }\n",
       "\n",
       "    .dataframe thead th {\n",
       "        text-align: right;\n",
       "    }\n",
       "</style>\n",
       "<table border=\"1\" class=\"dataframe\">\n",
       "  <thead>\n",
       "    <tr style=\"text-align: right;\">\n",
       "      <th></th>\n",
       "      <th>Y</th>\n",
       "    </tr>\n",
       "  </thead>\n",
       "  <tbody>\n",
       "    <tr>\n",
       "      <th>0</th>\n",
       "      <td>-1</td>\n",
       "    </tr>\n",
       "    <tr>\n",
       "      <th>1</th>\n",
       "      <td>-1</td>\n",
       "    </tr>\n",
       "    <tr>\n",
       "      <th>2</th>\n",
       "      <td>1</td>\n",
       "    </tr>\n",
       "    <tr>\n",
       "      <th>3</th>\n",
       "      <td>1</td>\n",
       "    </tr>\n",
       "    <tr>\n",
       "      <th>4</th>\n",
       "      <td>1</td>\n",
       "    </tr>\n",
       "  </tbody>\n",
       "</table>\n",
       "</div>"
      ],
      "text/plain": [
       "   Y\n",
       "0 -1\n",
       "1 -1\n",
       "2  1\n",
       "3  1\n",
       "4  1"
      ]
     },
     "execution_count": 3,
     "metadata": {},
     "output_type": "execute_result"
    }
   ],
   "source": [
    "df_c=pd.read_csv(\"uspscl.txt\",delimiter=\"\\t\", header = None)\n",
    "df_c.columns = [\"Y\"]\n",
    "df_c.head()\n"
   ]
  },
  {
   "cell_type": "code",
   "execution_count": 4,
   "metadata": {},
   "outputs": [
    {
     "data": {
      "text/html": [
       "<div>\n",
       "<style scoped>\n",
       "    .dataframe tbody tr th:only-of-type {\n",
       "        vertical-align: middle;\n",
       "    }\n",
       "\n",
       "    .dataframe tbody tr th {\n",
       "        vertical-align: top;\n",
       "    }\n",
       "\n",
       "    .dataframe thead th {\n",
       "        text-align: right;\n",
       "    }\n",
       "</style>\n",
       "<table border=\"1\" class=\"dataframe\">\n",
       "  <thead>\n",
       "    <tr style=\"text-align: right;\">\n",
       "      <th></th>\n",
       "      <th>0</th>\n",
       "      <th>1</th>\n",
       "      <th>2</th>\n",
       "      <th>3</th>\n",
       "      <th>4</th>\n",
       "      <th>5</th>\n",
       "      <th>6</th>\n",
       "      <th>7</th>\n",
       "      <th>8</th>\n",
       "      <th>9</th>\n",
       "      <th>...</th>\n",
       "      <th>247</th>\n",
       "      <th>248</th>\n",
       "      <th>249</th>\n",
       "      <th>250</th>\n",
       "      <th>251</th>\n",
       "      <th>252</th>\n",
       "      <th>253</th>\n",
       "      <th>254</th>\n",
       "      <th>255</th>\n",
       "      <th>Y</th>\n",
       "    </tr>\n",
       "  </thead>\n",
       "  <tbody>\n",
       "    <tr>\n",
       "      <th>0</th>\n",
       "      <td>0.0</td>\n",
       "      <td>0.0</td>\n",
       "      <td>0.00</td>\n",
       "      <td>0.00</td>\n",
       "      <td>0.95</td>\n",
       "      <td>11.91</td>\n",
       "      <td>49.02</td>\n",
       "      <td>106.96</td>\n",
       "      <td>152.14</td>\n",
       "      <td>157.77</td>\n",
       "      <td>...</td>\n",
       "      <td>154.03</td>\n",
       "      <td>152.60</td>\n",
       "      <td>142.38</td>\n",
       "      <td>125.40</td>\n",
       "      <td>100.57</td>\n",
       "      <td>69.80</td>\n",
       "      <td>38.67</td>\n",
       "      <td>14.58</td>\n",
       "      <td>2.80</td>\n",
       "      <td>-1</td>\n",
       "    </tr>\n",
       "    <tr>\n",
       "      <th>1</th>\n",
       "      <td>0.0</td>\n",
       "      <td>0.0</td>\n",
       "      <td>3.31</td>\n",
       "      <td>19.03</td>\n",
       "      <td>51.45</td>\n",
       "      <td>87.66</td>\n",
       "      <td>106.14</td>\n",
       "      <td>102.35</td>\n",
       "      <td>96.37</td>\n",
       "      <td>106.66</td>\n",
       "      <td>...</td>\n",
       "      <td>141.59</td>\n",
       "      <td>145.34</td>\n",
       "      <td>135.52</td>\n",
       "      <td>110.81</td>\n",
       "      <td>74.17</td>\n",
       "      <td>36.65</td>\n",
       "      <td>11.53</td>\n",
       "      <td>1.81</td>\n",
       "      <td>0.07</td>\n",
       "      <td>-1</td>\n",
       "    </tr>\n",
       "    <tr>\n",
       "      <th>2</th>\n",
       "      <td>0.0</td>\n",
       "      <td>0.0</td>\n",
       "      <td>0.02</td>\n",
       "      <td>1.86</td>\n",
       "      <td>12.63</td>\n",
       "      <td>42.03</td>\n",
       "      <td>84.17</td>\n",
       "      <td>104.87</td>\n",
       "      <td>79.06</td>\n",
       "      <td>32.90</td>\n",
       "      <td>...</td>\n",
       "      <td>150.08</td>\n",
       "      <td>134.27</td>\n",
       "      <td>113.54</td>\n",
       "      <td>85.57</td>\n",
       "      <td>52.14</td>\n",
       "      <td>23.76</td>\n",
       "      <td>7.75</td>\n",
       "      <td>1.76</td>\n",
       "      <td>0.23</td>\n",
       "      <td>1</td>\n",
       "    </tr>\n",
       "    <tr>\n",
       "      <th>3</th>\n",
       "      <td>0.0</td>\n",
       "      <td>0.0</td>\n",
       "      <td>0.00</td>\n",
       "      <td>0.01</td>\n",
       "      <td>5.93</td>\n",
       "      <td>33.21</td>\n",
       "      <td>75.00</td>\n",
       "      <td>85.97</td>\n",
       "      <td>51.36</td>\n",
       "      <td>14.25</td>\n",
       "      <td>...</td>\n",
       "      <td>156.53</td>\n",
       "      <td>139.58</td>\n",
       "      <td>104.68</td>\n",
       "      <td>63.12</td>\n",
       "      <td>28.38</td>\n",
       "      <td>8.15</td>\n",
       "      <td>1.11</td>\n",
       "      <td>0.02</td>\n",
       "      <td>0.00</td>\n",
       "      <td>1</td>\n",
       "    </tr>\n",
       "    <tr>\n",
       "      <th>4</th>\n",
       "      <td>0.0</td>\n",
       "      <td>0.0</td>\n",
       "      <td>0.94</td>\n",
       "      <td>8.57</td>\n",
       "      <td>32.06</td>\n",
       "      <td>63.96</td>\n",
       "      <td>74.10</td>\n",
       "      <td>50.12</td>\n",
       "      <td>18.39</td>\n",
       "      <td>2.83</td>\n",
       "      <td>...</td>\n",
       "      <td>87.66</td>\n",
       "      <td>59.11</td>\n",
       "      <td>26.47</td>\n",
       "      <td>8.72</td>\n",
       "      <td>2.48</td>\n",
       "      <td>0.42</td>\n",
       "      <td>0.00</td>\n",
       "      <td>0.00</td>\n",
       "      <td>0.00</td>\n",
       "      <td>1</td>\n",
       "    </tr>\n",
       "  </tbody>\n",
       "</table>\n",
       "<p>5 rows × 257 columns</p>\n",
       "</div>"
      ],
      "text/plain": [
       "     0    1     2      3      4      5       6       7       8       9 ...  \\\n",
       "0  0.0  0.0  0.00   0.00   0.95  11.91   49.02  106.96  152.14  157.77 ...   \n",
       "1  0.0  0.0  3.31  19.03  51.45  87.66  106.14  102.35   96.37  106.66 ...   \n",
       "2  0.0  0.0  0.02   1.86  12.63  42.03   84.17  104.87   79.06   32.90 ...   \n",
       "3  0.0  0.0  0.00   0.01   5.93  33.21   75.00   85.97   51.36   14.25 ...   \n",
       "4  0.0  0.0  0.94   8.57  32.06  63.96   74.10   50.12   18.39    2.83 ...   \n",
       "\n",
       "      247     248     249     250     251    252    253    254   255  Y  \n",
       "0  154.03  152.60  142.38  125.40  100.57  69.80  38.67  14.58  2.80 -1  \n",
       "1  141.59  145.34  135.52  110.81   74.17  36.65  11.53   1.81  0.07 -1  \n",
       "2  150.08  134.27  113.54   85.57   52.14  23.76   7.75   1.76  0.23  1  \n",
       "3  156.53  139.58  104.68   63.12   28.38   8.15   1.11   0.02  0.00  1  \n",
       "4   87.66   59.11   26.47    8.72    2.48   0.42   0.00   0.00  0.00  1  \n",
       "\n",
       "[5 rows x 257 columns]"
      ]
     },
     "execution_count": 4,
     "metadata": {},
     "output_type": "execute_result"
    }
   ],
   "source": [
    "df_f = pd.concat([df, df_c],axis=1)\n",
    "df_f.head()"
   ]
  },
  {
   "cell_type": "code",
   "execution_count": 5,
   "metadata": {},
   "outputs": [
    {
     "data": {
      "text/plain": [
       "200"
      ]
     },
     "execution_count": 5,
     "metadata": {},
     "output_type": "execute_result"
    }
   ],
   "source": [
    "import random\n",
    "import csv\n",
    "training = []\n",
    "testing = []\n",
    "l= len(df_f.index)\n",
    "l"
   ]
  },
  {
   "cell_type": "code",
   "execution_count": 6,
   "metadata": {},
   "outputs": [],
   "source": [
    "from sklearn.model_selection import train_test_split\n",
    "\n",
    "train, test = train_test_split(df_f, test_size=0.2)\n",
    "#dataset = list(lines)"
   ]
  },
  {
   "cell_type": "code",
   "execution_count": 7,
   "metadata": {},
   "outputs": [
    {
     "data": {
      "text/plain": [
       "160"
      ]
     },
     "execution_count": 7,
     "metadata": {},
     "output_type": "execute_result"
    }
   ],
   "source": [
    "train.head()\n",
    "len(train.index)"
   ]
  },
  {
   "cell_type": "code",
   "execution_count": 8,
   "metadata": {},
   "outputs": [
    {
     "data": {
      "text/html": [
       "<div>\n",
       "<style scoped>\n",
       "    .dataframe tbody tr th:only-of-type {\n",
       "        vertical-align: middle;\n",
       "    }\n",
       "\n",
       "    .dataframe tbody tr th {\n",
       "        vertical-align: top;\n",
       "    }\n",
       "\n",
       "    .dataframe thead th {\n",
       "        text-align: right;\n",
       "    }\n",
       "</style>\n",
       "<table border=\"1\" class=\"dataframe\">\n",
       "  <thead>\n",
       "    <tr style=\"text-align: right;\">\n",
       "      <th></th>\n",
       "      <th>0</th>\n",
       "      <th>1</th>\n",
       "      <th>2</th>\n",
       "      <th>3</th>\n",
       "      <th>4</th>\n",
       "      <th>5</th>\n",
       "      <th>6</th>\n",
       "      <th>7</th>\n",
       "      <th>8</th>\n",
       "      <th>9</th>\n",
       "      <th>...</th>\n",
       "      <th>247</th>\n",
       "      <th>248</th>\n",
       "      <th>249</th>\n",
       "      <th>250</th>\n",
       "      <th>251</th>\n",
       "      <th>252</th>\n",
       "      <th>253</th>\n",
       "      <th>254</th>\n",
       "      <th>255</th>\n",
       "      <th>Y</th>\n",
       "    </tr>\n",
       "  </thead>\n",
       "  <tbody>\n",
       "    <tr>\n",
       "      <th>77</th>\n",
       "      <td>0.0</td>\n",
       "      <td>0.0</td>\n",
       "      <td>0.58</td>\n",
       "      <td>6.23</td>\n",
       "      <td>22.29</td>\n",
       "      <td>38.49</td>\n",
       "      <td>35.31</td>\n",
       "      <td>16.64</td>\n",
       "      <td>3.18</td>\n",
       "      <td>0.00</td>\n",
       "      <td>...</td>\n",
       "      <td>39.86</td>\n",
       "      <td>49.97</td>\n",
       "      <td>56.17</td>\n",
       "      <td>42.84</td>\n",
       "      <td>18.66</td>\n",
       "      <td>3.70</td>\n",
       "      <td>0.13</td>\n",
       "      <td>0.00</td>\n",
       "      <td>0.00</td>\n",
       "      <td>1</td>\n",
       "    </tr>\n",
       "    <tr>\n",
       "      <th>12</th>\n",
       "      <td>0.0</td>\n",
       "      <td>0.0</td>\n",
       "      <td>0.00</td>\n",
       "      <td>0.23</td>\n",
       "      <td>1.61</td>\n",
       "      <td>5.63</td>\n",
       "      <td>13.80</td>\n",
       "      <td>27.09</td>\n",
       "      <td>44.65</td>\n",
       "      <td>64.60</td>\n",
       "      <td>...</td>\n",
       "      <td>127.04</td>\n",
       "      <td>137.61</td>\n",
       "      <td>134.56</td>\n",
       "      <td>108.24</td>\n",
       "      <td>64.76</td>\n",
       "      <td>25.40</td>\n",
       "      <td>5.33</td>\n",
       "      <td>0.36</td>\n",
       "      <td>0.00</td>\n",
       "      <td>-1</td>\n",
       "    </tr>\n",
       "    <tr>\n",
       "      <th>121</th>\n",
       "      <td>0.0</td>\n",
       "      <td>0.0</td>\n",
       "      <td>0.00</td>\n",
       "      <td>0.00</td>\n",
       "      <td>0.21</td>\n",
       "      <td>7.26</td>\n",
       "      <td>37.37</td>\n",
       "      <td>82.08</td>\n",
       "      <td>92.61</td>\n",
       "      <td>54.43</td>\n",
       "      <td>...</td>\n",
       "      <td>144.58</td>\n",
       "      <td>129.66</td>\n",
       "      <td>95.71</td>\n",
       "      <td>54.23</td>\n",
       "      <td>21.67</td>\n",
       "      <td>5.24</td>\n",
       "      <td>0.54</td>\n",
       "      <td>0.00</td>\n",
       "      <td>0.00</td>\n",
       "      <td>1</td>\n",
       "    </tr>\n",
       "    <tr>\n",
       "      <th>50</th>\n",
       "      <td>0.0</td>\n",
       "      <td>0.0</td>\n",
       "      <td>0.28</td>\n",
       "      <td>2.01</td>\n",
       "      <td>5.53</td>\n",
       "      <td>7.89</td>\n",
       "      <td>7.13</td>\n",
       "      <td>7.65</td>\n",
       "      <td>19.75</td>\n",
       "      <td>53.28</td>\n",
       "      <td>...</td>\n",
       "      <td>117.93</td>\n",
       "      <td>128.19</td>\n",
       "      <td>129.25</td>\n",
       "      <td>112.99</td>\n",
       "      <td>79.23</td>\n",
       "      <td>40.37</td>\n",
       "      <td>12.83</td>\n",
       "      <td>1.92</td>\n",
       "      <td>0.04</td>\n",
       "      <td>-1</td>\n",
       "    </tr>\n",
       "    <tr>\n",
       "      <th>155</th>\n",
       "      <td>0.0</td>\n",
       "      <td>0.0</td>\n",
       "      <td>0.02</td>\n",
       "      <td>0.83</td>\n",
       "      <td>5.62</td>\n",
       "      <td>20.55</td>\n",
       "      <td>49.97</td>\n",
       "      <td>87.75</td>\n",
       "      <td>116.96</td>\n",
       "      <td>122.20</td>\n",
       "      <td>...</td>\n",
       "      <td>153.69</td>\n",
       "      <td>133.48</td>\n",
       "      <td>106.29</td>\n",
       "      <td>78.07</td>\n",
       "      <td>49.76</td>\n",
       "      <td>24.71</td>\n",
       "      <td>8.45</td>\n",
       "      <td>1.72</td>\n",
       "      <td>0.16</td>\n",
       "      <td>1</td>\n",
       "    </tr>\n",
       "  </tbody>\n",
       "</table>\n",
       "<p>5 rows × 257 columns</p>\n",
       "</div>"
      ],
      "text/plain": [
       "       0    1     2     3      4      5      6      7       8       9 ...  \\\n",
       "77   0.0  0.0  0.58  6.23  22.29  38.49  35.31  16.64    3.18    0.00 ...   \n",
       "12   0.0  0.0  0.00  0.23   1.61   5.63  13.80  27.09   44.65   64.60 ...   \n",
       "121  0.0  0.0  0.00  0.00   0.21   7.26  37.37  82.08   92.61   54.43 ...   \n",
       "50   0.0  0.0  0.28  2.01   5.53   7.89   7.13   7.65   19.75   53.28 ...   \n",
       "155  0.0  0.0  0.02  0.83   5.62  20.55  49.97  87.75  116.96  122.20 ...   \n",
       "\n",
       "        247     248     249     250    251    252    253   254   255  Y  \n",
       "77    39.86   49.97   56.17   42.84  18.66   3.70   0.13  0.00  0.00  1  \n",
       "12   127.04  137.61  134.56  108.24  64.76  25.40   5.33  0.36  0.00 -1  \n",
       "121  144.58  129.66   95.71   54.23  21.67   5.24   0.54  0.00  0.00  1  \n",
       "50   117.93  128.19  129.25  112.99  79.23  40.37  12.83  1.92  0.04 -1  \n",
       "155  153.69  133.48  106.29   78.07  49.76  24.71   8.45  1.72  0.16  1  \n",
       "\n",
       "[5 rows x 257 columns]"
      ]
     },
     "execution_count": 8,
     "metadata": {},
     "output_type": "execute_result"
    }
   ],
   "source": [
    "test.head()"
   ]
  },
  {
   "cell_type": "code",
   "execution_count": 9,
   "metadata": {},
   "outputs": [
    {
     "data": {
      "text/plain": [
       "40"
      ]
     },
     "execution_count": 9,
     "metadata": {},
     "output_type": "execute_result"
    }
   ],
   "source": [
    "len(test.index)"
   ]
  },
  {
   "cell_type": "code",
   "execution_count": 17,
   "metadata": {},
   "outputs": [
    {
     "data": {
      "text/plain": [
       "array([ 1, -1,  1, -1,  1, -1,  1, -1, -1,  1,  1,  1,  1, -1, -1, -1,  1,\n",
       "        1,  1, -1, -1,  1, -1,  1, -1, -1,  1, -1,  1, -1, -1, -1, -1, -1,\n",
       "        1,  1, -1, -1,  1, -1])"
      ]
     },
     "execution_count": 17,
     "metadata": {},
     "output_type": "execute_result"
    }
   ],
   "source": [
    "test_y = test[\"Y\"] \n",
    "test_y = pd.Series.to_frame(test_y)\n",
    "test_y = test_y.values.ravel()\n",
    "test_y"
   ]
  },
  {
   "cell_type": "code",
   "execution_count": 10,
   "metadata": {},
   "outputs": [
    {
     "data": {
      "text/plain": [
       "array([ 1, -1, -1,  1, -1,  1,  1,  1,  1,  1, -1, -1,  1, -1,  1,  1, -1,\n",
       "        1, -1, -1, -1,  1, -1, -1,  1,  1, -1, -1, -1,  1, -1,  1, -1,  1,\n",
       "       -1,  1, -1, -1, -1, -1,  1,  1,  1,  1,  1, -1, -1,  1, -1, -1, -1,\n",
       "       -1,  1,  1,  1,  1, -1, -1, -1,  1,  1,  1, -1, -1, -1, -1,  1, -1,\n",
       "        1,  1, -1,  1,  1,  1, -1, -1, -1,  1, -1,  1, -1, -1,  1,  1,  1,\n",
       "        1,  1, -1,  1, -1, -1, -1, -1, -1,  1,  1, -1,  1, -1,  1, -1, -1,\n",
       "        1, -1, -1,  1,  1,  1, -1,  1, -1, -1, -1, -1,  1,  1,  1, -1,  1,\n",
       "        1, -1,  1, -1, -1,  1,  1,  1,  1, -1, -1,  1,  1, -1, -1, -1,  1,\n",
       "        1,  1, -1,  1,  1,  1,  1, -1, -1,  1,  1,  1, -1,  1,  1,  1, -1,\n",
       "       -1, -1,  1,  1, -1, -1,  1])"
      ]
     },
     "execution_count": 10,
     "metadata": {},
     "output_type": "execute_result"
    }
   ],
   "source": [
    "train_y = train[\"Y\"] \n",
    "train_y = pd.Series.to_frame(train_y)\n",
    "train_y = train_y.values.ravel()\n",
    "train_y"
   ]
  },
  {
   "cell_type": "code",
   "execution_count": 11,
   "metadata": {},
   "outputs": [
    {
     "data": {
      "text/plain": [
       "array([[0.0000e+00, 0.0000e+00, 8.0000e-02, ..., 9.0000e-01, 5.0000e-02,\n",
       "        0.0000e+00],\n",
       "       [0.0000e+00, 0.0000e+00, 0.0000e+00, ..., 5.8700e+00, 3.7000e-01,\n",
       "        0.0000e+00],\n",
       "       [2.5000e-01, 2.2600e+00, 8.0100e+00, ..., 1.1864e+02, 6.3260e+01,\n",
       "        2.0270e+01],\n",
       "       ...,\n",
       "       [0.0000e+00, 0.0000e+00, 0.0000e+00, ..., 7.0000e-01, 0.0000e+00,\n",
       "        0.0000e+00],\n",
       "       [0.0000e+00, 0.0000e+00, 0.0000e+00, ..., 6.1300e+00, 6.0000e-01,\n",
       "        0.0000e+00],\n",
       "       [0.0000e+00, 0.0000e+00, 2.5000e-01, ..., 1.9990e+01, 7.4100e+00,\n",
       "        1.6700e+00]])"
      ]
     },
     "execution_count": 11,
     "metadata": {},
     "output_type": "execute_result"
    }
   ],
   "source": [
    "train_x = train.drop(\"Y\", axis = 1)\n",
    "train_x = train_x.values\n",
    "train_x"
   ]
  },
  {
   "cell_type": "code",
   "execution_count": 12,
   "metadata": {},
   "outputs": [],
   "source": [
    "svc = svm.SVC(kernel='poly', C=1,gamma=.1,probability = False).fit(train_x, train_y)"
   ]
  },
  {
   "cell_type": "code",
   "execution_count": 13,
   "metadata": {},
   "outputs": [
    {
     "data": {
      "text/plain": [
       "array([ 1, -1, -1,  1, -1,  1,  1,  1,  1,  1, -1, -1,  1, -1,  1,  1, -1,\n",
       "        1, -1, -1, -1,  1, -1, -1,  1,  1, -1, -1, -1,  1, -1,  1, -1,  1,\n",
       "       -1,  1, -1, -1, -1, -1,  1,  1,  1,  1,  1, -1, -1,  1, -1, -1, -1,\n",
       "       -1,  1,  1,  1,  1, -1, -1, -1,  1,  1,  1, -1, -1, -1, -1,  1, -1,\n",
       "        1,  1, -1,  1,  1,  1, -1, -1, -1,  1, -1,  1, -1, -1,  1,  1,  1,\n",
       "        1,  1, -1,  1, -1, -1, -1, -1, -1,  1,  1, -1,  1, -1,  1, -1, -1,\n",
       "        1, -1, -1,  1,  1,  1, -1,  1, -1, -1, -1, -1,  1,  1,  1, -1,  1,\n",
       "        1, -1,  1, -1, -1,  1,  1,  1,  1, -1, -1,  1,  1, -1, -1, -1,  1,\n",
       "        1,  1, -1,  1,  1,  1,  1, -1, -1,  1,  1,  1, -1,  1,  1,  1, -1,\n",
       "       -1, -1,  1,  1, -1, -1,  1])"
      ]
     },
     "execution_count": 13,
     "metadata": {},
     "output_type": "execute_result"
    }
   ],
   "source": [
    "x_pred = svc.predict(train_x)\n",
    "x_pred"
   ]
  },
  {
   "cell_type": "code",
   "execution_count": 14,
   "metadata": {},
   "outputs": [
    {
     "data": {
      "text/plain": [
       "array([ 1, -1, -1,  1, -1,  1,  1,  1,  1,  1, -1, -1,  1, -1,  1,  1, -1,\n",
       "        1, -1, -1, -1,  1, -1, -1,  1,  1, -1, -1, -1,  1, -1,  1, -1,  1,\n",
       "       -1,  1, -1, -1, -1, -1,  1,  1,  1,  1,  1, -1, -1,  1, -1, -1, -1,\n",
       "       -1,  1,  1,  1,  1, -1, -1, -1,  1,  1,  1, -1, -1, -1, -1,  1, -1,\n",
       "        1,  1, -1,  1,  1,  1, -1, -1, -1,  1, -1,  1, -1, -1,  1,  1,  1,\n",
       "        1,  1, -1,  1, -1, -1, -1, -1, -1,  1,  1, -1,  1, -1,  1, -1, -1,\n",
       "        1, -1, -1,  1,  1,  1, -1,  1, -1, -1, -1, -1,  1,  1,  1, -1,  1,\n",
       "        1, -1,  1, -1, -1,  1,  1,  1,  1, -1, -1,  1,  1, -1, -1, -1,  1,\n",
       "        1,  1, -1,  1,  1,  1,  1, -1, -1,  1,  1,  1, -1,  1,  1,  1, -1,\n",
       "       -1, -1,  1,  1, -1, -1,  1])"
      ]
     },
     "execution_count": 14,
     "metadata": {},
     "output_type": "execute_result"
    }
   ],
   "source": [
    "train_y"
   ]
  },
  {
   "cell_type": "code",
   "execution_count": 15,
   "metadata": {},
   "outputs": [
    {
     "data": {
      "text/plain": [
       "40"
      ]
     },
     "execution_count": 15,
     "metadata": {},
     "output_type": "execute_result"
    }
   ],
   "source": [
    "test.head()#The 20% test data\n",
    "len(test.index)"
   ]
  },
  {
   "cell_type": "code",
   "execution_count": 16,
   "metadata": {},
   "outputs": [
    {
     "name": "stdout",
     "output_type": "stream",
     "text": [
      "[[78  0]\n",
      " [ 0 82]]\n",
      "\n",
      "TN = 78\n",
      "FP = 0\n",
      "FN = 0\n",
      "TP = 82\n"
     ]
    }
   ],
   "source": [
    "from sklearn.metrics import confusion_matrix \n",
    "confuse = confusion_matrix(train_y,x_pred)\n",
    "print(confuse)\n",
    "\n",
    "print(\"\\nTN =\",confuse[0][0])\n",
    "print(\"FP =\",confuse[0][1])\n",
    "print(\"FN =\",confuse[1][0])\n",
    "print(\"TP =\",confuse[1][1])"
   ]
  },
  {
   "cell_type": "code",
   "execution_count": 18,
   "metadata": {},
   "outputs": [
    {
     "ename": "ValueError",
     "evalue": "Found input variables with inconsistent numbers of samples: [40, 160]",
     "output_type": "error",
     "traceback": [
      "\u001b[0;31m---------------------------------------------------------------------------\u001b[0m",
      "\u001b[0;31mValueError\u001b[0m                                Traceback (most recent call last)",
      "\u001b[0;32m<ipython-input-18-52308c346a46>\u001b[0m in \u001b[0;36m<module>\u001b[0;34m()\u001b[0m\n\u001b[1;32m      1\u001b[0m \u001b[0;32mfrom\u001b[0m \u001b[0msklearn\u001b[0m\u001b[0;34m.\u001b[0m\u001b[0mmetrics\u001b[0m \u001b[0;32mimport\u001b[0m \u001b[0mconfusion_matrix\u001b[0m\u001b[0;34m\u001b[0m\u001b[0m\n\u001b[0;32m----> 2\u001b[0;31m \u001b[0mconfuse\u001b[0m \u001b[0;34m=\u001b[0m \u001b[0mconfusion_matrix\u001b[0m\u001b[0;34m(\u001b[0m\u001b[0mtest_y\u001b[0m\u001b[0;34m,\u001b[0m\u001b[0mx_pred\u001b[0m\u001b[0;34m)\u001b[0m\u001b[0;34m\u001b[0m\u001b[0m\n\u001b[0m\u001b[1;32m      3\u001b[0m \u001b[0mprint\u001b[0m\u001b[0;34m(\u001b[0m\u001b[0mconfuse\u001b[0m\u001b[0;34m)\u001b[0m\u001b[0;34m\u001b[0m\u001b[0m\n\u001b[1;32m      4\u001b[0m \u001b[0;34m\u001b[0m\u001b[0m\n\u001b[1;32m      5\u001b[0m \u001b[0mprint\u001b[0m\u001b[0;34m(\u001b[0m\u001b[0;34m\"\\nTN =\"\u001b[0m\u001b[0;34m,\u001b[0m\u001b[0mconfuse\u001b[0m\u001b[0;34m[\u001b[0m\u001b[0;36m0\u001b[0m\u001b[0;34m]\u001b[0m\u001b[0;34m[\u001b[0m\u001b[0;36m0\u001b[0m\u001b[0;34m]\u001b[0m\u001b[0;34m)\u001b[0m\u001b[0;34m\u001b[0m\u001b[0m\n",
      "\u001b[0;32m~/anaconda3/lib/python3.6/site-packages/sklearn/metrics/classification.py\u001b[0m in \u001b[0;36mconfusion_matrix\u001b[0;34m(y_true, y_pred, labels, sample_weight)\u001b[0m\n\u001b[1;32m    248\u001b[0m \u001b[0;34m\u001b[0m\u001b[0m\n\u001b[1;32m    249\u001b[0m     \"\"\"\n\u001b[0;32m--> 250\u001b[0;31m     \u001b[0my_type\u001b[0m\u001b[0;34m,\u001b[0m \u001b[0my_true\u001b[0m\u001b[0;34m,\u001b[0m \u001b[0my_pred\u001b[0m \u001b[0;34m=\u001b[0m \u001b[0m_check_targets\u001b[0m\u001b[0;34m(\u001b[0m\u001b[0my_true\u001b[0m\u001b[0;34m,\u001b[0m \u001b[0my_pred\u001b[0m\u001b[0;34m)\u001b[0m\u001b[0;34m\u001b[0m\u001b[0m\n\u001b[0m\u001b[1;32m    251\u001b[0m     \u001b[0;32mif\u001b[0m \u001b[0my_type\u001b[0m \u001b[0;32mnot\u001b[0m \u001b[0;32min\u001b[0m \u001b[0;34m(\u001b[0m\u001b[0;34m\"binary\"\u001b[0m\u001b[0;34m,\u001b[0m \u001b[0;34m\"multiclass\"\u001b[0m\u001b[0;34m)\u001b[0m\u001b[0;34m:\u001b[0m\u001b[0;34m\u001b[0m\u001b[0m\n\u001b[1;32m    252\u001b[0m         \u001b[0;32mraise\u001b[0m \u001b[0mValueError\u001b[0m\u001b[0;34m(\u001b[0m\u001b[0;34m\"%s is not supported\"\u001b[0m \u001b[0;34m%\u001b[0m \u001b[0my_type\u001b[0m\u001b[0;34m)\u001b[0m\u001b[0;34m\u001b[0m\u001b[0m\n",
      "\u001b[0;32m~/anaconda3/lib/python3.6/site-packages/sklearn/metrics/classification.py\u001b[0m in \u001b[0;36m_check_targets\u001b[0;34m(y_true, y_pred)\u001b[0m\n\u001b[1;32m     69\u001b[0m     \u001b[0my_pred\u001b[0m \u001b[0;34m:\u001b[0m \u001b[0marray\u001b[0m \u001b[0;32mor\u001b[0m \u001b[0mindicator\u001b[0m \u001b[0mmatrix\u001b[0m\u001b[0;34m\u001b[0m\u001b[0m\n\u001b[1;32m     70\u001b[0m     \"\"\"\n\u001b[0;32m---> 71\u001b[0;31m     \u001b[0mcheck_consistent_length\u001b[0m\u001b[0;34m(\u001b[0m\u001b[0my_true\u001b[0m\u001b[0;34m,\u001b[0m \u001b[0my_pred\u001b[0m\u001b[0;34m)\u001b[0m\u001b[0;34m\u001b[0m\u001b[0m\n\u001b[0m\u001b[1;32m     72\u001b[0m     \u001b[0mtype_true\u001b[0m \u001b[0;34m=\u001b[0m \u001b[0mtype_of_target\u001b[0m\u001b[0;34m(\u001b[0m\u001b[0my_true\u001b[0m\u001b[0;34m)\u001b[0m\u001b[0;34m\u001b[0m\u001b[0m\n\u001b[1;32m     73\u001b[0m     \u001b[0mtype_pred\u001b[0m \u001b[0;34m=\u001b[0m \u001b[0mtype_of_target\u001b[0m\u001b[0;34m(\u001b[0m\u001b[0my_pred\u001b[0m\u001b[0;34m)\u001b[0m\u001b[0;34m\u001b[0m\u001b[0m\n",
      "\u001b[0;32m~/anaconda3/lib/python3.6/site-packages/sklearn/utils/validation.py\u001b[0m in \u001b[0;36mcheck_consistent_length\u001b[0;34m(*arrays)\u001b[0m\n\u001b[1;32m    202\u001b[0m     \u001b[0;32mif\u001b[0m \u001b[0mlen\u001b[0m\u001b[0;34m(\u001b[0m\u001b[0muniques\u001b[0m\u001b[0;34m)\u001b[0m \u001b[0;34m>\u001b[0m \u001b[0;36m1\u001b[0m\u001b[0;34m:\u001b[0m\u001b[0;34m\u001b[0m\u001b[0m\n\u001b[1;32m    203\u001b[0m         raise ValueError(\"Found input variables with inconsistent numbers of\"\n\u001b[0;32m--> 204\u001b[0;31m                          \" samples: %r\" % [int(l) for l in lengths])\n\u001b[0m\u001b[1;32m    205\u001b[0m \u001b[0;34m\u001b[0m\u001b[0m\n\u001b[1;32m    206\u001b[0m \u001b[0;34m\u001b[0m\u001b[0m\n",
      "\u001b[0;31mValueError\u001b[0m: Found input variables with inconsistent numbers of samples: [40, 160]"
     ]
    }
   ],
   "source": [
    "from sklearn.metrics import confusion_matrix \n",
    "confuse = confusion_matrix(test_y,x_pred)\n",
    "print(confuse)\n",
    "\n",
    "print(\"\\nTN =\",confuse[0][0])\n",
    "print(\"FP =\",confuse[0][1])\n",
    "print(\"FN =\",confuse[1][0])\n",
    "print(\"TP =\",confuse[1][1])"
   ]
  },
  {
   "cell_type": "code",
   "execution_count": 159,
   "metadata": {},
   "outputs": [
    {
     "ename": "NameError",
     "evalue": "name 'accuracy_score' is not defined",
     "output_type": "error",
     "traceback": [
      "\u001b[0;31m---------------------------------------------------------------------------\u001b[0m",
      "\u001b[0;31mNameError\u001b[0m                                 Traceback (most recent call last)",
      "\u001b[0;32m<ipython-input-159-02144d2a8aea>\u001b[0m in \u001b[0;36m<module>\u001b[0;34m()\u001b[0m\n\u001b[0;32m----> 1\u001b[0;31m \u001b[0maccuracy_score\u001b[0m\u001b[0;34m(\u001b[0m\u001b[0mtest_y\u001b[0m\u001b[0;34m,\u001b[0m \u001b[0mx_pred\u001b[0m\u001b[0;34m,\u001b[0m \u001b[0mnormalize\u001b[0m\u001b[0;34m=\u001b[0m\u001b[0;32mFalse\u001b[0m\u001b[0;34m)\u001b[0m\u001b[0;34m\u001b[0m\u001b[0m\n\u001b[0m",
      "\u001b[0;31mNameError\u001b[0m: name 'accuracy_score' is not defined"
     ]
    }
   ],
   "source": [
    "accuracy_score(test_y, x_pred, normalize=False)"
   ]
  },
  {
   "cell_type": "code",
   "execution_count": 160,
   "metadata": {},
   "outputs": [],
   "source": [
    "svc1 = svm.SVC(kernel='rbf', C=500,gamma=.1,probability = True).fit(train_x, train_y)"
   ]
  },
  {
   "cell_type": "code",
   "execution_count": 162,
   "metadata": {},
   "outputs": [
    {
     "data": {
      "text/plain": [
       "array([ 1, -1,  1, -1, -1,  1,  1,  1,  1, -1,  1,  1, -1,  1, -1, -1, -1,\n",
       "        1,  1,  1, -1, -1, -1, -1,  1,  1, -1,  1,  1, -1,  1,  1,  1, -1,\n",
       "       -1, -1, -1, -1, -1,  1, -1, -1, -1, -1,  1, -1,  1,  1,  1,  1, -1,\n",
       "       -1,  1,  1, -1, -1,  1,  1, -1, -1,  1, -1,  1, -1, -1, -1,  1,  1,\n",
       "       -1,  1, -1,  1,  1, -1, -1, -1, -1, -1, -1, -1, -1,  1,  1, -1,  1,\n",
       "        1, -1, -1,  1,  1,  1, -1,  1,  1,  1, -1, -1,  1,  1,  1,  1, -1,\n",
       "        1, -1, -1, -1, -1, -1,  1,  1, -1, -1,  1, -1,  1,  1,  1,  1, -1,\n",
       "        1, -1,  1, -1,  1, -1,  1,  1, -1,  1, -1, -1,  1,  1,  1, -1, -1,\n",
       "        1,  1,  1, -1,  1, -1,  1, -1,  1,  1, -1,  1, -1,  1, -1, -1,  1,\n",
       "       -1,  1, -1, -1,  1, -1, -1])"
      ]
     },
     "execution_count": 162,
     "metadata": {},
     "output_type": "execute_result"
    }
   ],
   "source": [
    "x_pred1 = svc1.predict(train_x)\n",
    "x_pred1"
   ]
  },
  {
   "cell_type": "code",
   "execution_count": 163,
   "metadata": {},
   "outputs": [
    {
     "name": "stdout",
     "output_type": "stream",
     "text": [
      "[[81  0]\n",
      " [ 0 79]]\n",
      "\n",
      "TN = 81\n",
      "FP = 0\n",
      "FN = 0\n",
      "TP = 79\n"
     ]
    }
   ],
   "source": [
    "from sklearn.metrics import confusion_matrix \n",
    "confuse = confusion_matrix(train_y,x_pred)\n",
    "print(confuse)\n",
    "\n",
    "print(\"\\nTN =\",confuse[0][0])\n",
    "print(\"FP =\",confuse[0][1])\n",
    "print(\"FN =\",confuse[1][0])\n",
    "print(\"TP =\",confuse[1][1])"
   ]
  },
  {
   "cell_type": "code",
   "execution_count": 157,
   "metadata": {},
   "outputs": [],
   "source": [
    "x_min, x_max = train_x[:, 0].min() - 1, train_x[:, 0].max() + 1\n",
    "y_min, y_max = train_x[:, 1].min() - 1, train_x[:, 1].max() + 1\n",
    "h = (x_max / x_min)/100\n",
    "xx, yy = np.meshgrid(np.arange(x_min, x_max, h),\n",
    " np.arange(y_min, y_max, h))"
   ]
  },
  {
   "cell_type": "code",
   "execution_count": 158,
   "metadata": {},
   "outputs": [
    {
     "ename": "ValueError",
     "evalue": "Found array with 0 sample(s) (shape=(0, 2)) while a minimum of 1 is required.",
     "output_type": "error",
     "traceback": [
      "\u001b[0;31m---------------------------------------------------------------------------\u001b[0m",
      "\u001b[0;31mValueError\u001b[0m                                Traceback (most recent call last)",
      "\u001b[0;32m<ipython-input-158-e83d982206ca>\u001b[0m in \u001b[0;36m<module>\u001b[0;34m()\u001b[0m\n\u001b[1;32m      1\u001b[0m \u001b[0mplt\u001b[0m\u001b[0;34m.\u001b[0m\u001b[0msubplot\u001b[0m\u001b[0;34m(\u001b[0m\u001b[0;36m1\u001b[0m\u001b[0;34m,\u001b[0m \u001b[0;36m1\u001b[0m\u001b[0;34m,\u001b[0m \u001b[0;36m1\u001b[0m\u001b[0;34m)\u001b[0m\u001b[0;34m\u001b[0m\u001b[0m\n\u001b[0;32m----> 2\u001b[0;31m \u001b[0mZ\u001b[0m \u001b[0;34m=\u001b[0m \u001b[0msvc\u001b[0m\u001b[0;34m.\u001b[0m\u001b[0mpredict\u001b[0m\u001b[0;34m(\u001b[0m\u001b[0mnp\u001b[0m\u001b[0;34m.\u001b[0m\u001b[0mc_\u001b[0m\u001b[0;34m[\u001b[0m\u001b[0mxx\u001b[0m\u001b[0;34m.\u001b[0m\u001b[0mravel\u001b[0m\u001b[0;34m(\u001b[0m\u001b[0;34m)\u001b[0m\u001b[0;34m,\u001b[0m \u001b[0myy\u001b[0m\u001b[0;34m.\u001b[0m\u001b[0mravel\u001b[0m\u001b[0;34m(\u001b[0m\u001b[0;34m)\u001b[0m\u001b[0;34m]\u001b[0m\u001b[0;34m)\u001b[0m\u001b[0;34m\u001b[0m\u001b[0m\n\u001b[0m\u001b[1;32m      3\u001b[0m \u001b[0mZ\u001b[0m \u001b[0;34m=\u001b[0m \u001b[0mZ\u001b[0m\u001b[0;34m.\u001b[0m\u001b[0mreshape\u001b[0m\u001b[0;34m(\u001b[0m\u001b[0mxx\u001b[0m\u001b[0;34m.\u001b[0m\u001b[0mshape\u001b[0m\u001b[0;34m)\u001b[0m\u001b[0;34m\u001b[0m\u001b[0m\n\u001b[1;32m      4\u001b[0m \u001b[0mplt\u001b[0m\u001b[0;34m.\u001b[0m\u001b[0mcontourf\u001b[0m\u001b[0;34m(\u001b[0m\u001b[0mxx\u001b[0m\u001b[0;34m,\u001b[0m \u001b[0myy\u001b[0m\u001b[0;34m,\u001b[0m \u001b[0mZ\u001b[0m\u001b[0;34m,\u001b[0m \u001b[0mcmap\u001b[0m\u001b[0;34m=\u001b[0m\u001b[0mplt\u001b[0m\u001b[0;34m.\u001b[0m\u001b[0mcm\u001b[0m\u001b[0;34m.\u001b[0m\u001b[0mPaired\u001b[0m\u001b[0;34m,\u001b[0m \u001b[0malpha\u001b[0m\u001b[0;34m=\u001b[0m\u001b[0;36m0.8\u001b[0m\u001b[0;34m)\u001b[0m\u001b[0;34m\u001b[0m\u001b[0m\n\u001b[1;32m      5\u001b[0m \u001b[0mplt\u001b[0m\u001b[0;34m.\u001b[0m\u001b[0mscatter\u001b[0m\u001b[0;34m(\u001b[0m\u001b[0mtrain_x\u001b[0m\u001b[0;34m[\u001b[0m\u001b[0;34m:\u001b[0m\u001b[0;34m,\u001b[0m \u001b[0;36m0\u001b[0m\u001b[0;34m]\u001b[0m\u001b[0;34m,\u001b[0m \u001b[0mtrain_x\u001b[0m\u001b[0;34m[\u001b[0m\u001b[0;34m:\u001b[0m\u001b[0;34m,\u001b[0m \u001b[0;36m1\u001b[0m\u001b[0;34m]\u001b[0m\u001b[0;34m,\u001b[0m \u001b[0mc\u001b[0m\u001b[0;34m=\u001b[0m\u001b[0mtrain_y\u001b[0m\u001b[0;34m,\u001b[0m \u001b[0mcmap\u001b[0m\u001b[0;34m=\u001b[0m\u001b[0mplt\u001b[0m\u001b[0;34m.\u001b[0m\u001b[0mcm\u001b[0m\u001b[0;34m.\u001b[0m\u001b[0mPaired\u001b[0m\u001b[0;34m)\u001b[0m\u001b[0;34m\u001b[0m\u001b[0m\n",
      "\u001b[0;32m~/anaconda3/lib/python3.6/site-packages/sklearn/svm/base.py\u001b[0m in \u001b[0;36mpredict\u001b[0;34m(self, X)\u001b[0m\n\u001b[1;32m    546\u001b[0m             \u001b[0mClass\u001b[0m \u001b[0mlabels\u001b[0m \u001b[0;32mfor\u001b[0m \u001b[0msamples\u001b[0m \u001b[0;32min\u001b[0m \u001b[0mX\u001b[0m\u001b[0;34m.\u001b[0m\u001b[0;34m\u001b[0m\u001b[0m\n\u001b[1;32m    547\u001b[0m         \"\"\"\n\u001b[0;32m--> 548\u001b[0;31m         \u001b[0my\u001b[0m \u001b[0;34m=\u001b[0m \u001b[0msuper\u001b[0m\u001b[0;34m(\u001b[0m\u001b[0mBaseSVC\u001b[0m\u001b[0;34m,\u001b[0m \u001b[0mself\u001b[0m\u001b[0;34m)\u001b[0m\u001b[0;34m.\u001b[0m\u001b[0mpredict\u001b[0m\u001b[0;34m(\u001b[0m\u001b[0mX\u001b[0m\u001b[0;34m)\u001b[0m\u001b[0;34m\u001b[0m\u001b[0m\n\u001b[0m\u001b[1;32m    549\u001b[0m         \u001b[0;32mreturn\u001b[0m \u001b[0mself\u001b[0m\u001b[0;34m.\u001b[0m\u001b[0mclasses_\u001b[0m\u001b[0;34m.\u001b[0m\u001b[0mtake\u001b[0m\u001b[0;34m(\u001b[0m\u001b[0mnp\u001b[0m\u001b[0;34m.\u001b[0m\u001b[0masarray\u001b[0m\u001b[0;34m(\u001b[0m\u001b[0my\u001b[0m\u001b[0;34m,\u001b[0m \u001b[0mdtype\u001b[0m\u001b[0;34m=\u001b[0m\u001b[0mnp\u001b[0m\u001b[0;34m.\u001b[0m\u001b[0mintp\u001b[0m\u001b[0;34m)\u001b[0m\u001b[0;34m)\u001b[0m\u001b[0;34m\u001b[0m\u001b[0m\n\u001b[1;32m    550\u001b[0m \u001b[0;34m\u001b[0m\u001b[0m\n",
      "\u001b[0;32m~/anaconda3/lib/python3.6/site-packages/sklearn/svm/base.py\u001b[0m in \u001b[0;36mpredict\u001b[0;34m(self, X)\u001b[0m\n\u001b[1;32m    306\u001b[0m         \u001b[0my_pred\u001b[0m \u001b[0;34m:\u001b[0m \u001b[0marray\u001b[0m\u001b[0;34m,\u001b[0m \u001b[0mshape\u001b[0m \u001b[0;34m(\u001b[0m\u001b[0mn_samples\u001b[0m\u001b[0;34m,\u001b[0m\u001b[0;34m)\u001b[0m\u001b[0;34m\u001b[0m\u001b[0m\n\u001b[1;32m    307\u001b[0m         \"\"\"\n\u001b[0;32m--> 308\u001b[0;31m         \u001b[0mX\u001b[0m \u001b[0;34m=\u001b[0m \u001b[0mself\u001b[0m\u001b[0;34m.\u001b[0m\u001b[0m_validate_for_predict\u001b[0m\u001b[0;34m(\u001b[0m\u001b[0mX\u001b[0m\u001b[0;34m)\u001b[0m\u001b[0;34m\u001b[0m\u001b[0m\n\u001b[0m\u001b[1;32m    309\u001b[0m         \u001b[0mpredict\u001b[0m \u001b[0;34m=\u001b[0m \u001b[0mself\u001b[0m\u001b[0;34m.\u001b[0m\u001b[0m_sparse_predict\u001b[0m \u001b[0;32mif\u001b[0m \u001b[0mself\u001b[0m\u001b[0;34m.\u001b[0m\u001b[0m_sparse\u001b[0m \u001b[0;32melse\u001b[0m \u001b[0mself\u001b[0m\u001b[0;34m.\u001b[0m\u001b[0m_dense_predict\u001b[0m\u001b[0;34m\u001b[0m\u001b[0m\n\u001b[1;32m    310\u001b[0m         \u001b[0;32mreturn\u001b[0m \u001b[0mpredict\u001b[0m\u001b[0;34m(\u001b[0m\u001b[0mX\u001b[0m\u001b[0;34m)\u001b[0m\u001b[0;34m\u001b[0m\u001b[0m\n",
      "\u001b[0;32m~/anaconda3/lib/python3.6/site-packages/sklearn/svm/base.py\u001b[0m in \u001b[0;36m_validate_for_predict\u001b[0;34m(self, X)\u001b[0m\n\u001b[1;32m    437\u001b[0m         \u001b[0mcheck_is_fitted\u001b[0m\u001b[0;34m(\u001b[0m\u001b[0mself\u001b[0m\u001b[0;34m,\u001b[0m \u001b[0;34m'support_'\u001b[0m\u001b[0;34m)\u001b[0m\u001b[0;34m\u001b[0m\u001b[0m\n\u001b[1;32m    438\u001b[0m \u001b[0;34m\u001b[0m\u001b[0m\n\u001b[0;32m--> 439\u001b[0;31m         \u001b[0mX\u001b[0m \u001b[0;34m=\u001b[0m \u001b[0mcheck_array\u001b[0m\u001b[0;34m(\u001b[0m\u001b[0mX\u001b[0m\u001b[0;34m,\u001b[0m \u001b[0maccept_sparse\u001b[0m\u001b[0;34m=\u001b[0m\u001b[0;34m'csr'\u001b[0m\u001b[0;34m,\u001b[0m \u001b[0mdtype\u001b[0m\u001b[0;34m=\u001b[0m\u001b[0mnp\u001b[0m\u001b[0;34m.\u001b[0m\u001b[0mfloat64\u001b[0m\u001b[0;34m,\u001b[0m \u001b[0morder\u001b[0m\u001b[0;34m=\u001b[0m\u001b[0;34m\"C\"\u001b[0m\u001b[0;34m)\u001b[0m\u001b[0;34m\u001b[0m\u001b[0m\n\u001b[0m\u001b[1;32m    440\u001b[0m         \u001b[0;32mif\u001b[0m \u001b[0mself\u001b[0m\u001b[0;34m.\u001b[0m\u001b[0m_sparse\u001b[0m \u001b[0;32mand\u001b[0m \u001b[0;32mnot\u001b[0m \u001b[0msp\u001b[0m\u001b[0;34m.\u001b[0m\u001b[0misspmatrix\u001b[0m\u001b[0;34m(\u001b[0m\u001b[0mX\u001b[0m\u001b[0;34m)\u001b[0m\u001b[0;34m:\u001b[0m\u001b[0;34m\u001b[0m\u001b[0m\n\u001b[1;32m    441\u001b[0m             \u001b[0mX\u001b[0m \u001b[0;34m=\u001b[0m \u001b[0msp\u001b[0m\u001b[0;34m.\u001b[0m\u001b[0mcsr_matrix\u001b[0m\u001b[0;34m(\u001b[0m\u001b[0mX\u001b[0m\u001b[0;34m)\u001b[0m\u001b[0;34m\u001b[0m\u001b[0m\n",
      "\u001b[0;32m~/anaconda3/lib/python3.6/site-packages/sklearn/utils/validation.py\u001b[0m in \u001b[0;36mcheck_array\u001b[0;34m(array, accept_sparse, dtype, order, copy, force_all_finite, ensure_2d, allow_nd, ensure_min_samples, ensure_min_features, warn_on_dtype, estimator)\u001b[0m\n\u001b[1;32m    460\u001b[0m                              \u001b[0;34m\" minimum of %d is required%s.\"\u001b[0m\u001b[0;34m\u001b[0m\u001b[0m\n\u001b[1;32m    461\u001b[0m                              % (n_samples, shape_repr, ensure_min_samples,\n\u001b[0;32m--> 462\u001b[0;31m                                 context))\n\u001b[0m\u001b[1;32m    463\u001b[0m \u001b[0;34m\u001b[0m\u001b[0m\n\u001b[1;32m    464\u001b[0m     \u001b[0;32mif\u001b[0m \u001b[0mensure_min_features\u001b[0m \u001b[0;34m>\u001b[0m \u001b[0;36m0\u001b[0m \u001b[0;32mand\u001b[0m \u001b[0marray\u001b[0m\u001b[0;34m.\u001b[0m\u001b[0mndim\u001b[0m \u001b[0;34m==\u001b[0m \u001b[0;36m2\u001b[0m\u001b[0;34m:\u001b[0m\u001b[0;34m\u001b[0m\u001b[0m\n",
      "\u001b[0;31mValueError\u001b[0m: Found array with 0 sample(s) (shape=(0, 2)) while a minimum of 1 is required."
     ]
    },
    {
     "data": {
      "image/png": "[encoded data removed]",
      "text/plain": [
       "<matplotlib.figure.Figure at 0x7f9935a44898>"
      ]
     },
     "metadata": {},
     "output_type": "display_data"
    }
   ],
   "source": [
    "plt.subplot(1, 1, 1)\n",
    "Z = svc.predict(np.c_[xx.ravel(), yy.ravel()])\n",
    "Z = Z.reshape(xx.shape)\n",
    "plt.contourf(xx, yy, Z, cmap=plt.cm.Paired, alpha=0.8)\n",
    "plt.scatter(train_x[:, 0], train_x[:, 1], c=train_y, cmap=plt.cm.Paired)\n",
    "plt.xlabel('Pixel')\n",
    "plt.ylabel('Category')\n",
    "plt.xlim(xx.min(), xx.max())\n",
    "plt.title('SVC with polynomial kernel')\n",
    "plt.show()"
   ]
  },
  {
   "cell_type": "code",
   "execution_count": 33,
   "metadata": {},
   "outputs": [
    {
     "ename": "Error",
     "evalue": "iterator should return strings, not int (did you open the file in text mode?)",
     "output_type": "error",
     "traceback": [
      "\u001b[0;31m---------------------------------------------------------------------------\u001b[0m",
      "\u001b[0;31mError\u001b[0m                                     Traceback (most recent call last)",
      "\u001b[0;32m<ipython-input-33-4888544c4b68>\u001b[0m in \u001b[0;36m<module>\u001b[0;34m()\u001b[0m\n\u001b[1;32m      1\u001b[0m \u001b[0;34m\u001b[0m\u001b[0m\n\u001b[1;32m      2\u001b[0m \u001b[0mlines\u001b[0m \u001b[0;34m=\u001b[0m \u001b[0mcsv\u001b[0m\u001b[0;34m.\u001b[0m\u001b[0mreader\u001b[0m\u001b[0;34m(\u001b[0m\u001b[0mdf_f\u001b[0m\u001b[0;34m)\u001b[0m\u001b[0;34m\u001b[0m\u001b[0m\n\u001b[0;32m----> 3\u001b[0;31m \u001b[0mdataset\u001b[0m \u001b[0;34m=\u001b[0m \u001b[0mlist\u001b[0m\u001b[0;34m(\u001b[0m\u001b[0mlines\u001b[0m\u001b[0;34m)\u001b[0m\u001b[0;34m\u001b[0m\u001b[0m\n\u001b[0m\u001b[1;32m      4\u001b[0m \u001b[0;32mfor\u001b[0m \u001b[0mx\u001b[0m \u001b[0;32min\u001b[0m \u001b[0mrange\u001b[0m\u001b[0;34m(\u001b[0m\u001b[0ml\u001b[0m\u001b[0;34m)\u001b[0m\u001b[0;34m:\u001b[0m\u001b[0;34m\u001b[0m\u001b[0m\n\u001b[1;32m      5\u001b[0m     \u001b[0;32mfor\u001b[0m \u001b[0my\u001b[0m \u001b[0;32min\u001b[0m \u001b[0mrange\u001b[0m\u001b[0;34m(\u001b[0m\u001b[0;36m4\u001b[0m\u001b[0;34m)\u001b[0m\u001b[0;34m:\u001b[0m\u001b[0;34m\u001b[0m\u001b[0m\n",
      "\u001b[0;31mError\u001b[0m: iterator should return strings, not int (did you open the file in text mode?)"
     ]
    }
   ],
   "source": [
    "\n",
    "lines = csv.reader(df_f)\n",
    "dataset = list(lines)\n",
    "for x in range(l):\n",
    "    for y in range(4):\n",
    "        dataset[x][y] = float(dataset[x][y])\n",
    "    if random.random() < 0.08:   \n",
    "        training.append(dataset[x])\n",
    "    else:\n",
    "        test.append(dataset[x])"
   ]
  },
  {
   "cell_type": "code",
   "execution_count": 3,
   "metadata": {},
   "outputs": [],
   "source": [
    "from PIL import Image\n",
    "\n",
    "im = Image.new(\"RGB\", (128, 128))\n",
    "pix = im.load()\n",
    "for x in range(128):\n",
    "    for y in range(128):\n",
    "        pix[x,y] = (0,255,255)\n",
    "\n",
    "im.save(\"Image.png\", \"PNG\")"
   ]
  },
  {
   "cell_type": "code",
   "execution_count": 10,
   "metadata": {},
   "outputs": [],
   "source": [
    "from PIL import Image\n",
    "im= Image.new('RGB', (1024, 1024))\n",
    "im.putdata([(0,255,0)])\n",
    "im.save('test.png')"
   ]
  },
  {
   "cell_type": "code",
   "execution_count": 53,
   "metadata": {},
   "outputs": [],
   "source": [
    "X = df\n",
    "Y = df_c\n",
    "Y = Y.values.ravel()"
   ]
  },
  {
   "cell_type": "code",
   "execution_count": 55,
   "metadata": {},
   "outputs": [
    {
     "data": {
      "text/plain": [
       "SVC(C=400, cache_size=200, class_weight=None, coef0=0.0,\n",
       "  decision_function_shape='ovr', degree=3, gamma=0.1, kernel='poly',\n",
       "  max_iter=-1, probability=False, random_state=None, shrinking=True,\n",
       "  tol=0.001, verbose=False)"
      ]
     },
     "execution_count": 55,
     "metadata": {},
     "output_type": "execute_result"
    }
   ],
   "source": [
    "svc = svm.SVC(kernel='poly', C=400,gamma=.1,probability = False).fit(X, Y)\n",
    "svc"
   ]
  },
  {
   "cell_type": "code",
   "execution_count": null,
   "metadata": {},
   "outputs": [],
   "source": []
  },
  {
   "cell_type": "code",
   "execution_count": 56,
   "metadata": {},
   "outputs": [],
   "source": [
    "x_min, x_max = X.values[:, 0].min() - 1, X.values[:, 0].max() + 1\n",
    "y_min, y_max = X.values[:, 1].min() - 1, X.values[:, 1].max() + 1\n",
    "h = (x_max / x_min)/100\n",
    "xx, yy = np.meshgrid(np.arange(x_min, x_max, h),\n",
    " np.arange(y_min, y_max, h))"
   ]
  },
  {
   "cell_type": "code",
   "execution_count": 18,
   "metadata": {},
   "outputs": [
    {
     "data": {
      "text/plain": [
       "SVC(C=500, cache_size=200, class_weight=None, coef0=0.0,\n",
       "  decision_function_shape='ovr', degree=3, gamma=0.1, kernel='poly',\n",
       "  max_iter=-1, probability=False, random_state=None, shrinking=True,\n",
       "  tol=0.001, verbose=False)"
      ]
     },
     "execution_count": 18,
     "metadata": {},
     "output_type": "execute_result"
    }
   ],
   "source": []
  },
  {
   "cell_type": "code",
   "execution_count": null,
   "metadata": {},
   "outputs": [],
   "source": [
    "plt.subplot(1, 1, 1)\n",
    "Z = svc.predict(np.c_[xx.ravel(), yy.ravel()])\n",
    "Z = Z.reshape(xx.shape)\n",
    "plt.contourf(xx, yy, Z, cmap=plt.cm.Paired, alpha=0.8)\n",
    "plt.scatter(X[:, 0], X[:, 1], c=y, cmap=plt.cm.Paired)\n",
    "plt.xlabel('Sepal length')\n",
    "plt.ylabel('Sepal width')\n",
    "plt.xlim(xx.min(), xx.max())\n",
    "plt.title('SVC with polynomial kernel')\n",
    "plt.show()"
   ]
  },
  {
   "cell_type": "code",
   "execution_count": 18,
   "metadata": {},
   "outputs": [
    {
     "data": {
      "text/html": [
       "<div>\n",
       "<style scoped>\n",
       "    .dataframe tbody tr th:only-of-type {\n",
       "        vertical-align: middle;\n",
       "    }\n",
       "\n",
       "    .dataframe tbody tr th {\n",
       "        vertical-align: top;\n",
       "    }\n",
       "\n",
       "    .dataframe thead th {\n",
       "        text-align: right;\n",
       "    }\n",
       "</style>\n",
       "<table border=\"1\" class=\"dataframe\">\n",
       "  <thead>\n",
       "    <tr style=\"text-align: right;\">\n",
       "      <th></th>\n",
       "      <th>0</th>\n",
       "      <th>1</th>\n",
       "      <th>2</th>\n",
       "      <th>3</th>\n",
       "      <th>4</th>\n",
       "      <th>5</th>\n",
       "      <th>6</th>\n",
       "      <th>7</th>\n",
       "      <th>8</th>\n",
       "      <th>9</th>\n",
       "      <th>...</th>\n",
       "      <th>246</th>\n",
       "      <th>247</th>\n",
       "      <th>248</th>\n",
       "      <th>249</th>\n",
       "      <th>250</th>\n",
       "      <th>251</th>\n",
       "      <th>252</th>\n",
       "      <th>253</th>\n",
       "      <th>254</th>\n",
       "      <th>255</th>\n",
       "    </tr>\n",
       "  </thead>\n",
       "  <tbody>\n",
       "    <tr>\n",
       "      <th>0</th>\n",
       "      <td>0.0</td>\n",
       "      <td>0.0</td>\n",
       "      <td>0.0</td>\n",
       "      <td>0.0</td>\n",
       "      <td>0.95</td>\n",
       "      <td>11.91</td>\n",
       "      <td>49.02</td>\n",
       "      <td>106.96</td>\n",
       "      <td>152.14</td>\n",
       "      <td>157.77</td>\n",
       "      <td>...</td>\n",
       "      <td>145.84</td>\n",
       "      <td>154.03</td>\n",
       "      <td>152.6</td>\n",
       "      <td>142.38</td>\n",
       "      <td>125.4</td>\n",
       "      <td>100.57</td>\n",
       "      <td>69.8</td>\n",
       "      <td>38.67</td>\n",
       "      <td>14.58</td>\n",
       "      <td>2.8</td>\n",
       "    </tr>\n",
       "  </tbody>\n",
       "</table>\n",
       "<p>1 rows × 256 columns</p>\n",
       "</div>"
      ],
      "text/plain": [
       "   0    1    2    3     4      5      6       7       8       9   ...   \\\n",
       "0  0.0  0.0  0.0  0.0  0.95  11.91  49.02  106.96  152.14  157.77 ...    \n",
       "\n",
       "      246     247    248     249    250     251   252    253    254  255  \n",
       "0  145.84  154.03  152.6  142.38  125.4  100.57  69.8  38.67  14.58  2.8  \n",
       "\n",
       "[1 rows x 256 columns]"
      ]
     },
     "execution_count": 18,
     "metadata": {},
     "output_type": "execute_result"
    }
   ],
   "source": [
    "df3 = df.head(1)\n",
    "df3\n"
   ]
  },
  {
   "cell_type": "code",
   "execution_count": 36,
   "metadata": {},
   "outputs": [
    {
     "ename": "ValueError",
     "evalue": "invalid literal for int() with base 10: '0.00\\t0.00\\t3.31\\t19.03\\t51.45\\t87.66\\t106.14\\t102.35\\t96.37\\t106.66\\t129.21\\t142.45\\t123.71\\t74.74\\t27.05\\t4.34\\t0.00\\t0.00\\t4.73\\t29.87\\t85.43\\t149.11\\t184.86\\t186.96\\t178.38\\t176.98\\t181.42\\t173.7",
     "output_type": "error",
     "traceback": [
      "\u001b[0;31m---------------------------------------------------------------------------\u001b[0m",
      "\u001b[0;31mValueError\u001b[0m                                Traceback (most recent call last)",
      "\u001b[0;32m<ipython-input-36-0a4dd6e62e3a>\u001b[0m in \u001b[0;36m<module>\u001b[0;34m()\u001b[0m\n\u001b[1;32m      1\u001b[0m \u001b[0;31m#df3 = df3.values\u001b[0m\u001b[0;34m\u001b[0m\u001b[0;34m\u001b[0m\u001b[0m\n\u001b[0;32m----> 2\u001b[0;31m \u001b[0mdf3\u001b[0m \u001b[0;34m=\u001b[0m \u001b[0mdf3\u001b[0m\u001b[0;34m.\u001b[0m\u001b[0mastype\u001b[0m\u001b[0;34m(\u001b[0m\u001b[0;34m'int'\u001b[0m\u001b[0;34m)\u001b[0m\u001b[0;34m\u001b[0m\u001b[0m\n\u001b[0m\u001b[1;32m      3\u001b[0m \u001b[0;31m#print(len(df3))\u001b[0m\u001b[0;34m\u001b[0m\u001b[0;34m\u001b[0m\u001b[0m\n\u001b[1;32m      4\u001b[0m \u001b[0mdf3\u001b[0m\u001b[0;34m\u001b[0m\u001b[0m\n",
      "\u001b[0;32m~/anaconda3/lib/python3.6/site-packages/pandas/util/_decorators.py\u001b[0m in \u001b[0;36mwrapper\u001b[0;34m(*args, **kwargs)\u001b[0m\n\u001b[1;32m    116\u001b[0m                 \u001b[0;32melse\u001b[0m\u001b[0;34m:\u001b[0m\u001b[0;34m\u001b[0m\u001b[0m\n\u001b[1;32m    117\u001b[0m                     \u001b[0mkwargs\u001b[0m\u001b[0;34m[\u001b[0m\u001b[0mnew_arg_name\u001b[0m\u001b[0;34m]\u001b[0m \u001b[0;34m=\u001b[0m \u001b[0mnew_arg_value\u001b[0m\u001b[0;34m\u001b[0m\u001b[0m\n\u001b[0;32m--> 118\u001b[0;31m             \u001b[0;32mreturn\u001b[0m \u001b[0mfunc\u001b[0m\u001b[0;34m(\u001b[0m\u001b[0;34m*\u001b[0m\u001b[0margs\u001b[0m\u001b[0;34m,\u001b[0m \u001b[0;34m**\u001b[0m\u001b[0mkwargs\u001b[0m\u001b[0;34m)\u001b[0m\u001b[0;34m\u001b[0m\u001b[0m\n\u001b[0m\u001b[1;32m    119\u001b[0m         \u001b[0;32mreturn\u001b[0m \u001b[0mwrapper\u001b[0m\u001b[0;34m\u001b[0m\u001b[0m\n\u001b[1;32m    120\u001b[0m     \u001b[0;32mreturn\u001b[0m \u001b[0m_deprecate_kwarg\u001b[0m\u001b[0;34m\u001b[0m\u001b[0m\n",
      "\u001b[0;32m~/anaconda3/lib/python3.6/site-packages/pandas/core/generic.py\u001b[0m in \u001b[0;36mastype\u001b[0;34m(self, dtype, copy, errors, **kwargs)\u001b[0m\n\u001b[1;32m   4002\u001b[0m         \u001b[0;31m# else, only a single dtype is given\u001b[0m\u001b[0;34m\u001b[0m\u001b[0;34m\u001b[0m\u001b[0m\n\u001b[1;32m   4003\u001b[0m         new_data = self._data.astype(dtype=dtype, copy=copy, errors=errors,\n\u001b[0;32m-> 4004\u001b[0;31m                                      **kwargs)\n\u001b[0m\u001b[1;32m   4005\u001b[0m         \u001b[0;32mreturn\u001b[0m \u001b[0mself\u001b[0m\u001b[0;34m.\u001b[0m\u001b[0m_constructor\u001b[0m\u001b[0;34m(\u001b[0m\u001b[0mnew_data\u001b[0m\u001b[0;34m)\u001b[0m\u001b[0;34m.\u001b[0m\u001b[0m__finalize__\u001b[0m\u001b[0;34m(\u001b[0m\u001b[0mself\u001b[0m\u001b[0;34m)\u001b[0m\u001b[0;34m\u001b[0m\u001b[0m\n\u001b[1;32m   4006\u001b[0m \u001b[0;34m\u001b[0m\u001b[0m\n",
      "\u001b[0;32m~/anaconda3/lib/python3.6/site-packages/pandas/core/internals.py\u001b[0m in \u001b[0;36mastype\u001b[0;34m(self, dtype, **kwargs)\u001b[0m\n\u001b[1;32m   3460\u001b[0m \u001b[0;34m\u001b[0m\u001b[0m\n\u001b[1;32m   3461\u001b[0m     \u001b[0;32mdef\u001b[0m \u001b[0mastype\u001b[0m\u001b[0;34m(\u001b[0m\u001b[0mself\u001b[0m\u001b[0;34m,\u001b[0m \u001b[0mdtype\u001b[0m\u001b[0;34m,\u001b[0m \u001b[0;34m**\u001b[0m\u001b[0mkwargs\u001b[0m\u001b[0;34m)\u001b[0m\u001b[0;34m:\u001b[0m\u001b[0;34m\u001b[0m\u001b[0m\n\u001b[0;32m-> 3462\u001b[0;31m         \u001b[0;32mreturn\u001b[0m \u001b[0mself\u001b[0m\u001b[0;34m.\u001b[0m\u001b[0mapply\u001b[0m\u001b[0;34m(\u001b[0m\u001b[0;34m'astype'\u001b[0m\u001b[0;34m,\u001b[0m \u001b[0mdtype\u001b[0m\u001b[0;34m=\u001b[0m\u001b[0mdtype\u001b[0m\u001b[0;34m,\u001b[0m \u001b[0;34m**\u001b[0m\u001b[0mkwargs\u001b[0m\u001b[0;34m)\u001b[0m\u001b[0;34m\u001b[0m\u001b[0m\n\u001b[0m\u001b[1;32m   3463\u001b[0m \u001b[0;34m\u001b[0m\u001b[0m\n\u001b[1;32m   3464\u001b[0m     \u001b[0;32mdef\u001b[0m \u001b[0mconvert\u001b[0m\u001b[0;34m(\u001b[0m\u001b[0mself\u001b[0m\u001b[0;34m,\u001b[0m \u001b[0;34m**\u001b[0m\u001b[0mkwargs\u001b[0m\u001b[0;34m)\u001b[0m\u001b[0;34m:\u001b[0m\u001b[0;34m\u001b[0m\u001b[0m\n",
      "\u001b[0;32m~/anaconda3/lib/python3.6/site-packages/pandas/core/internals.py\u001b[0m in \u001b[0;36mapply\u001b[0;34m(self, f, axes, filter, do_integrity_check, consolidate, **kwargs)\u001b[0m\n\u001b[1;32m   3327\u001b[0m \u001b[0;34m\u001b[0m\u001b[0m\n\u001b[1;32m   3328\u001b[0m             \u001b[0mkwargs\u001b[0m\u001b[0;34m[\u001b[0m\u001b[0;34m'mgr'\u001b[0m\u001b[0;34m]\u001b[0m \u001b[0;34m=\u001b[0m \u001b[0mself\u001b[0m\u001b[0;34m\u001b[0m\u001b[0m\n\u001b[0;32m-> 3329\u001b[0;31m             \u001b[0mapplied\u001b[0m \u001b[0;34m=\u001b[0m \u001b[0mgetattr\u001b[0m\u001b[0;34m(\u001b[0m\u001b[0mb\u001b[0m\u001b[0;34m,\u001b[0m \u001b[0mf\u001b[0m\u001b[0;34m)\u001b[0m\u001b[0;34m(\u001b[0m\u001b[0;34m**\u001b[0m\u001b[0mkwargs\u001b[0m\u001b[0;34m)\u001b[0m\u001b[0;34m\u001b[0m\u001b[0m\n\u001b[0m\u001b[1;32m   3330\u001b[0m             \u001b[0mresult_blocks\u001b[0m \u001b[0;34m=\u001b[0m \u001b[0m_extend_blocks\u001b[0m\u001b[0;34m(\u001b[0m\u001b[0mapplied\u001b[0m\u001b[0;34m,\u001b[0m \u001b[0mresult_blocks\u001b[0m\u001b[0;34m)\u001b[0m\u001b[0;34m\u001b[0m\u001b[0m\n\u001b[1;32m   3331\u001b[0m \u001b[0;34m\u001b[0m\u001b[0m\n",
      "\u001b[0;32m~/anaconda3/lib/python3.6/site-packages/pandas/core/internals.py\u001b[0m in \u001b[0;36mastype\u001b[0;34m(self, dtype, copy, errors, values, **kwargs)\u001b[0m\n\u001b[1;32m    542\u001b[0m     \u001b[0;32mdef\u001b[0m \u001b[0mastype\u001b[0m\u001b[0;34m(\u001b[0m\u001b[0mself\u001b[0m\u001b[0;34m,\u001b[0m \u001b[0mdtype\u001b[0m\u001b[0;34m,\u001b[0m \u001b[0mcopy\u001b[0m\u001b[0;34m=\u001b[0m\u001b[0;32mFalse\u001b[0m\u001b[0;34m,\u001b[0m \u001b[0merrors\u001b[0m\u001b[0;34m=\u001b[0m\u001b[0;34m'raise'\u001b[0m\u001b[0;34m,\u001b[0m \u001b[0mvalues\u001b[0m\u001b[0;34m=\u001b[0m\u001b[0;32mNone\u001b[0m\u001b[0;34m,\u001b[0m \u001b[0;34m**\u001b[0m\u001b[0mkwargs\u001b[0m\u001b[0;34m)\u001b[0m\u001b[0;34m:\u001b[0m\u001b[0;34m\u001b[0m\u001b[0m\n\u001b[1;32m    543\u001b[0m         return self._astype(dtype, copy=copy, errors=errors, values=values,\n\u001b[0;32m--> 544\u001b[0;31m                             **kwargs)\n\u001b[0m\u001b[1;32m    545\u001b[0m \u001b[0;34m\u001b[0m\u001b[0m\n\u001b[1;32m    546\u001b[0m     def _astype(self, dtype, copy=False, errors='raise', values=None,\n",
      "\u001b[0;32m~/anaconda3/lib/python3.6/site-packages/pandas/core/internals.py\u001b[0m in \u001b[0;36m_astype\u001b[0;34m(self, dtype, copy, errors, values, klass, mgr, **kwargs)\u001b[0m\n\u001b[1;32m    623\u001b[0m \u001b[0;34m\u001b[0m\u001b[0m\n\u001b[1;32m    624\u001b[0m                 \u001b[0;31m# _astype_nansafe works fine with 1-d only\u001b[0m\u001b[0;34m\u001b[0m\u001b[0;34m\u001b[0m\u001b[0m\n\u001b[0;32m--> 625\u001b[0;31m                 \u001b[0mvalues\u001b[0m \u001b[0;34m=\u001b[0m \u001b[0mastype_nansafe\u001b[0m\u001b[0;34m(\u001b[0m\u001b[0mvalues\u001b[0m\u001b[0;34m.\u001b[0m\u001b[0mravel\u001b[0m\u001b[0;34m(\u001b[0m\u001b[0;34m)\u001b[0m\u001b[0;34m,\u001b[0m \u001b[0mdtype\u001b[0m\u001b[0;34m,\u001b[0m \u001b[0mcopy\u001b[0m\u001b[0;34m=\u001b[0m\u001b[0;32mTrue\u001b[0m\u001b[0;34m)\u001b[0m\u001b[0;34m\u001b[0m\u001b[0m\n\u001b[0m\u001b[1;32m    626\u001b[0m                 \u001b[0mvalues\u001b[0m \u001b[0;34m=\u001b[0m \u001b[0mvalues\u001b[0m\u001b[0;34m.\u001b[0m\u001b[0mreshape\u001b[0m\u001b[0;34m(\u001b[0m\u001b[0mself\u001b[0m\u001b[0;34m.\u001b[0m\u001b[0mshape\u001b[0m\u001b[0;34m)\u001b[0m\u001b[0;34m\u001b[0m\u001b[0m\n\u001b[1;32m    627\u001b[0m \u001b[0;34m\u001b[0m\u001b[0m\n",
      "\u001b[0;32m~/anaconda3/lib/python3.6/site-packages/pandas/core/dtypes/cast.py\u001b[0m in \u001b[0;36mastype_nansafe\u001b[0;34m(arr, dtype, copy)\u001b[0m\n\u001b[1;32m    690\u001b[0m     \u001b[0;32melif\u001b[0m \u001b[0marr\u001b[0m\u001b[0;34m.\u001b[0m\u001b[0mdtype\u001b[0m \u001b[0;34m==\u001b[0m \u001b[0mnp\u001b[0m\u001b[0;34m.\u001b[0m\u001b[0mobject_\u001b[0m \u001b[0;32mand\u001b[0m \u001b[0mnp\u001b[0m\u001b[0;34m.\u001b[0m\u001b[0missubdtype\u001b[0m\u001b[0;34m(\u001b[0m\u001b[0mdtype\u001b[0m\u001b[0;34m.\u001b[0m\u001b[0mtype\u001b[0m\u001b[0;34m,\u001b[0m \u001b[0mnp\u001b[0m\u001b[0;34m.\u001b[0m\u001b[0minteger\u001b[0m\u001b[0;34m)\u001b[0m\u001b[0;34m:\u001b[0m\u001b[0;34m\u001b[0m\u001b[0m\n\u001b[1;32m    691\u001b[0m         \u001b[0;31m# work around NumPy brokenness, #1987\u001b[0m\u001b[0;34m\u001b[0m\u001b[0;34m\u001b[0m\u001b[0m\n\u001b[0;32m--> 692\u001b[0;31m         \u001b[0;32mreturn\u001b[0m \u001b[0mlib\u001b[0m\u001b[0;34m.\u001b[0m\u001b[0mastype_intsafe\u001b[0m\u001b[0;34m(\u001b[0m\u001b[0marr\u001b[0m\u001b[0;34m.\u001b[0m\u001b[0mravel\u001b[0m\u001b[0;34m(\u001b[0m\u001b[0;34m)\u001b[0m\u001b[0;34m,\u001b[0m \u001b[0mdtype\u001b[0m\u001b[0;34m)\u001b[0m\u001b[0;34m.\u001b[0m\u001b[0mreshape\u001b[0m\u001b[0;34m(\u001b[0m\u001b[0marr\u001b[0m\u001b[0;34m.\u001b[0m\u001b[0mshape\u001b[0m\u001b[0;34m)\u001b[0m\u001b[0;34m\u001b[0m\u001b[0m\n\u001b[0m\u001b[1;32m    693\u001b[0m \u001b[0;34m\u001b[0m\u001b[0m\n\u001b[1;32m    694\u001b[0m     \u001b[0;32mif\u001b[0m \u001b[0mdtype\u001b[0m\u001b[0;34m.\u001b[0m\u001b[0mname\u001b[0m \u001b[0;32min\u001b[0m \u001b[0;34m(\u001b[0m\u001b[0;34m\"datetime64\"\u001b[0m\u001b[0;34m,\u001b[0m \u001b[0;34m\"timedelta64\"\u001b[0m\u001b[0;34m)\u001b[0m\u001b[0;34m:\u001b[0m\u001b[0;34m\u001b[0m\u001b[0m\n",
      "\u001b[0;32mpandas/_libs/lib.pyx\u001b[0m in \u001b[0;36mpandas._libs.lib.astype_intsafe\u001b[0;34m()\u001b[0m\n",
      "\u001b[0;32mpandas/_libs/src/util.pxd\u001b[0m in \u001b[0;36mutil.set_value_at_unsafe\u001b[0;34m()\u001b[0m\n",
      "\u001b[0;31mValueError\u001b[0m: invalid literal for int() with base 10: '0.00\\t0.00\\t3.31\\t19.03\\t51.45\\t87.66\\t106.14\\t102.35\\t96.37\\t106.66\\t129.21\\t142.45\\t123.71\\t74.74\\t27.05\\t4.34\\t0.00\\t0.00\\t4.73\\t29.87\\t85.43\\t149.11\\t184.86\\t186.96\\t178.38\\t176.98\\t181.42\\t173.7"
     ]
    }
   ],
   "source": [
    "#df3 = df3.values\n",
    "df3 = df3.astype('int')\n",
    "#print(len(df3))\n",
    "df3"
   ]
  },
  {
   "cell_type": "code",
   "execution_count": 20,
   "metadata": {},
   "outputs": [],
   "source": [
    "df3 = df3.values.tolist()\n",
    "#df3 = df3.encode('utf-8')"
   ]
  },
  {
   "cell_type": "code",
   "execution_count": 21,
   "metadata": {},
   "outputs": [
    {
     "data": {
      "text/plain": [
       "[[0.0,\n",
       "  0.0,\n",
       "  0.0,\n",
       "  0.0,\n",
       "  0.95,\n",
       "  11.91,\n",
       "  49.02,\n",
       "  106.96,\n",
       "  152.14,\n",
       "  157.77,\n",
       "  120.05,\n",
       "  60.8,\n",
       "  17.15,\n",
       "  1.87,\n",
       "  0.0,\n",
       "  0.0,\n",
       "  0.0,\n",
       "  0.0,\n",
       "  0.0,\n",
       "  0.0,\n",
       "  3.26,\n",
       "  25.46,\n",
       "  84.12,\n",
       "  161.41,\n",
       "  211.4,\n",
       "  208.26,\n",
       "  155.31,\n",
       "  80.06,\n",
       "  24.24,\n",
       "  3.13,\n",
       "  0.0,\n",
       "  0.0,\n",
       "  0.0,\n",
       "  0.0,\n",
       "  0.0,\n",
       "  0.02,\n",
       "  6.95,\n",
       "  42.45,\n",
       "  116.03,\n",
       "  190.93,\n",
       "  219.21,\n",
       "  192.53,\n",
       "  131.38,\n",
       "  64.43,\n",
       "  19.4,\n",
       "  2.62,\n",
       "  0.0,\n",
       "  0.0,\n",
       "  0.0,\n",
       "  0.0,\n",
       "  0.0,\n",
       "  0.42,\n",
       "  12.3,\n",
       "  60.71,\n",
       "  141.84,\n",
       "  199.64,\n",
       "  191.97,\n",
       "  137.97,\n",
       "  77.65,\n",
       "  32.81,\n",
       "  8.87,\n",
       "  1.07,\n",
       "  0.0,\n",
       "  0.0,\n",
       "  0.0,\n",
       "  0.0,\n",
       "  0.05,\n",
       "  2.62,\n",
       "  23.4,\n",
       "  84.34,\n",
       "  164.73,\n",
       "  198.53,\n",
       "  158.66,\n",
       "  89.16,\n",
       "  37.74,\n",
       "  12.38,\n",
       "  2.6,\n",
       "  0.17,\n",
       "  0.0,\n",
       "  0.0,\n",
       "  0.0,\n",
       "  0.0,\n",
       "  0.97,\n",
       "  10.66,\n",
       "  47.99,\n",
       "  120.65,\n",
       "  191.32,\n",
       "  203.82,\n",
       "  153.51,\n",
       "  88.97,\n",
       "  44.96,\n",
       "  20.01,\n",
       "  6.43,\n",
       "  1.2,\n",
       "  0.12,\n",
       "  0.0,\n",
       "  0.0,\n",
       "  0.27,\n",
       "  5.42,\n",
       "  30.78,\n",
       "  90.03,\n",
       "  167.11,\n",
       "  220.16,\n",
       "  221.78,\n",
       "  184.61,\n",
       "  140.62,\n",
       "  102.58,\n",
       "  65.29,\n",
       "  31.75,\n",
       "  10.66,\n",
       "  2.17,\n",
       "  0.19,\n",
       "  0.0,\n",
       "  1.18,\n",
       "  14.36,\n",
       "  60.56,\n",
       "  137.93,\n",
       "  207.54,\n",
       "  238.09,\n",
       "  232.21,\n",
       "  207.66,\n",
       "  181.15,\n",
       "  157.42,\n",
       "  126.93,\n",
       "  83.93,\n",
       "  40.08,\n",
       "  11.89,\n",
       "  1.63,\n",
       "  0.0,\n",
       "  2.01,\n",
       "  20.93,\n",
       "  78.61,\n",
       "  159.98,\n",
       "  214.89,\n",
       "  222.78,\n",
       "  201.79,\n",
       "  171.9,\n",
       "  149.38,\n",
       "  146.43,\n",
       "  153.05,\n",
       "  137.78,\n",
       "  88.61,\n",
       "  35.2,\n",
       "  7.05,\n",
       "  0.0,\n",
       "  1.68,\n",
       "  17.47,\n",
       "  64.93,\n",
       "  129.17,\n",
       "  165.97,\n",
       "  158.69,\n",
       "  126.52,\n",
       "  91.72,\n",
       "  71.71,\n",
       "  83.55,\n",
       "  127.99,\n",
       "  162.22,\n",
       "  136.51,\n",
       "  69.32,\n",
       "  18.84,\n",
       "  2.23,\n",
       "  5.04,\n",
       "  12.32,\n",
       "  33.92,\n",
       "  65.59,\n",
       "  82.77,\n",
       "  73.27,\n",
       "  49.46,\n",
       "  27.49,\n",
       "  17.08,\n",
       "  33.15,\n",
       "  92.31,\n",
       "  161.62,\n",
       "  167.14,\n",
       "  101.55,\n",
       "  33.91,\n",
       "  10.72,\n",
       "  23.33,\n",
       "  28.63,\n",
       "  27.04,\n",
       "  28.63,\n",
       "  30.66,\n",
       "  25.49,\n",
       "  16.83,\n",
       "  11.73,\n",
       "  12.1,\n",
       "  29.4,\n",
       "  87.12,\n",
       "  162.98,\n",
       "  180.27,\n",
       "  117.95,\n",
       "  42.97,\n",
       "  21.0,\n",
       "  51.99,\n",
       "  72.38,\n",
       "  68.66,\n",
       "  57.93,\n",
       "  52.86,\n",
       "  48.79,\n",
       "  45.55,\n",
       "  48.85,\n",
       "  58.61,\n",
       "  79.13,\n",
       "  125.41,\n",
       "  178.55,\n",
       "  177.64,\n",
       "  110.56,\n",
       "  38.87,\n",
       "  21.45,\n",
       "  63.15,\n",
       "  106.88,\n",
       "  126.16,\n",
       "  127.09,\n",
       "  125.77,\n",
       "  123.34,\n",
       "  121.28,\n",
       "  126.38,\n",
       "  138.57,\n",
       "  154.38,\n",
       "  174.56,\n",
       "  183.75,\n",
       "  150.26,\n",
       "  81.09,\n",
       "  24.72,\n",
       "  12.06,\n",
       "  44.48,\n",
       "  92.64,\n",
       "  133.43,\n",
       "  156.94,\n",
       "  169.56,\n",
       "  176.5,\n",
       "  180.0,\n",
       "  182.09,\n",
       "  183.12,\n",
       "  180.24,\n",
       "  168.93,\n",
       "  142.38,\n",
       "  95.54,\n",
       "  43.15,\n",
       "  10.59,\n",
       "  3.57,\n",
       "  17.65,\n",
       "  46.1,\n",
       "  80.81,\n",
       "  110.5,\n",
       "  131.37,\n",
       "  145.84,\n",
       "  154.03,\n",
       "  152.6,\n",
       "  142.38,\n",
       "  125.4,\n",
       "  100.57,\n",
       "  69.8,\n",
       "  38.67,\n",
       "  14.58,\n",
       "  2.8]]"
      ]
     },
     "execution_count": 21,
     "metadata": {},
     "output_type": "execute_result"
    }
   ],
   "source": [
    "df3"
   ]
  },
  {
   "cell_type": "code",
   "execution_count": 25,
   "metadata": {},
   "outputs": [
    {
     "data": {
      "text/plain": [
       "'[0.0, 0.0, 0.0, 0.0, 0.95, 11.91, 49.02, 106.96, 152.14, 157.77, 120.05, 60.8, 17.15, 1.87, 0.0, 0.0, 0.0, 0.0, 0.0, 0.0, 3.26, 25.46, 84.12, 161.41, 211.4, 208.26, 155.31, 80.06, 24.24, 3.13, 0.0, 0.0, 0.0, 0.0, 0.0, 0.02, 6.95, 42.45, 116.03, 190.93, 219.21, 192.53, 131.38, 64.43, 19.4, 2.62, 0.0, 0.0, 0.0, 0.0, 0.0, 0.42, 12.3, 60.71, 141.84, 199.64, 191.97, 137.97, 77.65, 32.81, 8.87, 1.07, 0.0, 0.0, 0.0, 0.0, 0.05, 2.62, 23.4, 84.34, 164.73, 198.53, 158.66, 89.16, 37.74, 12.38, 2.6, 0.17, 0.0, 0.0, 0.0, 0.0, 0.97, 10.66, 47.99, 120.65, 191.32, 203.82, 153.51, 88.97, 44.96, 20.01, 6.43, 1.2, 0.12, 0.0, 0.0, 0.27, 5.42, 30.78, 90.03, 167.11, 220.16, 221.78, 184.61, 140.62, 102.58, 65.29, 31.75, 10.66, 2.17, 0.19, 0.0, 1.18, 14.36, 60.56, 137.93, 207.54, 238.09, 232.21, 207.66, 181.15, 157.42, 126.93, 83.93, 40.08, 11.89, 1.63, 0.0, 2.01, 20.93, 78.61, 159.98, 214.89, 222.78, 201.79, 171.9, 149.38, 146.43, 153.05, 137.78, 88.61, 35.2, 7.05, 0.0, 1.68, 17.47, 64.93, 129.17, 165.97, 158.69, 126.52, 91.72, 71.71, 83.55, 127.99, 162.22, 136.51, 69.32, 18.84, 2.23, 5.04, 12.32, 33.92, 65.59, 82.77, 73.27, 49.46, 27.49, 17.08, 33.15, 92.31, 161.62, 167.14, 101.55, 33.91, 10.72, 23.33, 28.63, 27.04, 28.63, 30.66, 25.49, 16.83, 11.73, 12.1, 29.4, 87.12, 162.98, 180.27, 117.95, 42.97, 21.0, 51.99, 72.38, 68.66, 57.93, 52.86, 48.79, 45.55, 48.85, 58.61, 79.13, 125.41, 178.55, 177.64, 110.56, 38.87, 21.45, 63.15, 106.88, 126.16, 127.09, 125.77, 123.34, 121.28, 126.38, 138.57, 154.38, 174.56, 183.75, 150.26, 81.09, 24.72, 12.06, 44.48, 92.64, 133.43, 156.94, 169.56, 176.5, 180.0, 182.09, 183.12, 180.24, 168.93, 142.38, 95.54, 43.15, 10.59, 3.57, 17.65, 46.1, 80.81, 110.5, 131.37, 145.84, 154.03, 152.6, 142.38, 125.4, 100.57, 69.8, 38.67, 14.58, 2.8]'"
      ]
     },
     "execution_count": 25,
     "metadata": {},
     "output_type": "execute_result"
    }
   ],
   "source": [
    "str1 = ''.join(str(e) for e in df3)\n",
    "str1"
   ]
  },
  {
   "cell_type": "code",
   "execution_count": 40,
   "metadata": {},
   "outputs": [
    {
     "data": {
      "text/plain": [
       "b'[0.0, 0.0, 0.0, 0.0, 0.95, 11.91, 49.02, 106.96, 152.14, 157.77, 120.05, 60.8, 17.15, 1.87, 0.0, 0.0, 0.0, 0.0, 0.0, 0.0, 3.26, 25.46, 84.12, 161.41, 211.4, 208.26, 155.31, 80.06, 24.24, 3.13, 0.0, 0.0, 0.0, 0.0, 0.0, 0.02, 6.95, 42.45, 116.03, 190.93, 219.21, 192.53, 131.38, 64.43, 19.4, 2.62, 0.0, 0.0, 0.0, 0.0, 0.0, 0.42, 12.3, 60.71, 141.84, 199.64, 191.97, 137.97, 77.65, 32.81, 8.87, 1.07, 0.0, 0.0, 0.0, 0.0, 0.05, 2.62, 23.4, 84.34, 164.73, 198.53, 158.66, 89.16, 37.74, 12.38, 2.6, 0.17, 0.0, 0.0, 0.0, 0.0, 0.97, 10.66, 47.99, 120.65, 191.32, 203.82, 153.51, 88.97, 44.96, 20.01, 6.43, 1.2, 0.12, 0.0, 0.0, 0.27, 5.42, 30.78, 90.03, 167.11, 220.16, 221.78, 184.61, 140.62, 102.58, 65.29, 31.75, 10.66, 2.17, 0.19, 0.0, 1.18, 14.36, 60.56, 137.93, 207.54, 238.09, 232.21, 207.66, 181.15, 157.42, 126.93, 83.93, 40.08, 11.89, 1.63, 0.0, 2.01, 20.93, 78.61, 159.98, 214.89, 222.78, 201.79, 171.9, 149.38, 146.43, 153.05, 137.78, 88.61, 35.2, 7.05, 0.0, 1.68, 17.47, 64.93, 129.17, 165.97, 158.69, 126.52, 91.72, 71.71, 83.55, 127.99, 162.22, 136.51, 69.32, 18.84, 2.23, 5.04, 12.32, 33.92, 65.59, 82.77, 73.27, 49.46, 27.49, 17.08, 33.15, 92.31, 161.62, 167.14, 101.55, 33.91, 10.72, 23.33, 28.63, 27.04, 28.63, 30.66, 25.49, 16.83, 11.73, 12.1, 29.4, 87.12, 162.98, 180.27, 117.95, 42.97, 21.0, 51.99, 72.38, 68.66, 57.93, 52.86, 48.79, 45.55, 48.85, 58.61, 79.13, 125.41, 178.55, 177.64, 110.56, 38.87, 21.45, 63.15, 106.88, 126.16, 127.09, 125.77, 123.34, 121.28, 126.38, 138.57, 154.38, 174.56, 183.75, 150.26, 81.09, 24.72, 12.06, 44.48, 92.64, 133.43, 156.94, 169.56, 176.5, 180.0, 182.09, 183.12, 180.24, 168.93, 142.38, 95.54, 43.15, 10.59, 3.57, 17.65, 46.1, 80.81, 110.5, 131.37, 145.84, 154.03, 152.6, 142.38, 125.4, 100.57, 69.8, 38.67, 14.58, 2.8]'"
      ]
     },
     "execution_count": 40,
     "metadata": {},
     "output_type": "execute_result"
    }
   ],
   "source": [
    "str2 = str.encode(str1)\n",
    "type(str2)\n",
    "str2\n"
   ]
  },
  {
   "cell_type": "code",
   "execution_count": 57,
   "metadata": {},
   "outputs": [],
   "source": [
    "from PIL import Image\n",
    "im = Image.frombytes('RGB', (8,8), str2,'raw')\n",
    "im.save(\"Image.png\", \"PNG\")"
   ]
  },
  {
   "cell_type": "code",
   "execution_count": 58,
   "metadata": {},
   "outputs": [
    {
     "ename": "OSError",
     "evalue": "cannot identify image file <_io.BytesIO object at 0x7f715398dba0>",
     "output_type": "error",
     "traceback": [
      "\u001b[0;31m---------------------------------------------------------------------------\u001b[0m",
      "\u001b[0;31mOSError\u001b[0m                                   Traceback (most recent call last)",
      "\u001b[0;32m<ipython-input-58-d123c20cfb0a>\u001b[0m in \u001b[0;36m<module>\u001b[0;34m()\u001b[0m\n\u001b[1;32m      1\u001b[0m \u001b[0;32mfrom\u001b[0m \u001b[0mPIL\u001b[0m \u001b[0;32mimport\u001b[0m \u001b[0mImage\u001b[0m\u001b[0;34m\u001b[0m\u001b[0m\n\u001b[1;32m      2\u001b[0m \u001b[0;32mimport\u001b[0m \u001b[0mio\u001b[0m\u001b[0;34m\u001b[0m\u001b[0m\n\u001b[0;32m----> 3\u001b[0;31m \u001b[0mimage\u001b[0m \u001b[0;34m=\u001b[0m \u001b[0mImage\u001b[0m\u001b[0;34m.\u001b[0m\u001b[0mopen\u001b[0m\u001b[0;34m(\u001b[0m\u001b[0mio\u001b[0m\u001b[0;34m.\u001b[0m\u001b[0mBytesIO\u001b[0m\u001b[0;34m(\u001b[0m\u001b[0mstr2\u001b[0m\u001b[0;34m)\u001b[0m\u001b[0;34m)\u001b[0m\u001b[0;34m\u001b[0m\u001b[0m\n\u001b[0m\u001b[1;32m      4\u001b[0m \u001b[0mimage\u001b[0m\u001b[0;34m.\u001b[0m\u001b[0mshow\u001b[0m\u001b[0;34m(\u001b[0m\u001b[0;34m)\u001b[0m\u001b[0;34m\u001b[0m\u001b[0m\n",
      "\u001b[0;32m~/anaconda3/lib/python3.6/site-packages/PIL/Image.py\u001b[0m in \u001b[0;36mopen\u001b[0;34m(fp, mode)\u001b[0m\n\u001b[1;32m   2583\u001b[0m         \u001b[0mfp\u001b[0m\u001b[0;34m.\u001b[0m\u001b[0mclose\u001b[0m\u001b[0;34m(\u001b[0m\u001b[0;34m)\u001b[0m\u001b[0;34m\u001b[0m\u001b[0m\n\u001b[1;32m   2584\u001b[0m     raise IOError(\"cannot identify image file %r\"\n\u001b[0;32m-> 2585\u001b[0;31m                   % (filename if filename else fp))\n\u001b[0m\u001b[1;32m   2586\u001b[0m \u001b[0;34m\u001b[0m\u001b[0m\n\u001b[1;32m   2587\u001b[0m \u001b[0;31m#\u001b[0m\u001b[0;34m\u001b[0m\u001b[0;34m\u001b[0m\u001b[0m\n",
      "\u001b[0;31mOSError\u001b[0m: cannot identify image file <_io.BytesIO object at 0x7f715398dba0>"
     ]
    }
   ],
   "source": [
    "from PIL import Image\n",
    "import io\n",
    "image = Image.open(io.BytesIO(str2))\n",
    "image.show()"
   ]
  },
  {
   "cell_type": "code",
   "execution_count": null,
   "metadata": {},
   "outputs": [],
   "source": []
  }
 ],
 "metadata": {
  "kernelspec": {
   "display_name": "Python 3",
   "language": "python",
   "name": "python3"
  },
  "language_info": {
   "codemirror_mode": {
    "name": "ipython",
    "version": 3
   },
   "file_extension": ".py",
   "mimetype": "text/x-python",
   "name": "python",
   "nbconvert_exporter": "python",
   "pygments_lexer": "ipython3",
   "version": "3.6.4"
  }
 },
 "nbformat": 4,
 "nbformat_minor": 2
}
