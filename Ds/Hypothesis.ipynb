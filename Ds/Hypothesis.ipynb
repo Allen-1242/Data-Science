{
 "cells": [
  {
   "cell_type": "code",
   "execution_count": 82,
   "metadata": {},
   "outputs": [],
   "source": [
    "import numpy as nm\n",
    "import random\n",
    "from scipy import stats\n",
    "\n",
    "\n",
    "byte_scores = random.sample(range(5,50),25)\n",
    "upgrad_score = random.sample(range(0,50),25)"
   ]
  },
  {
   "cell_type": "code",
   "execution_count": 83,
   "metadata": {},
   "outputs": [
    {
     "data": {
      "text/plain": [
       "[13,\n",
       " 30,\n",
       " 35,\n",
       " 27,\n",
       " 9,\n",
       " 6,\n",
       " 49,\n",
       " 38,\n",
       " 41,\n",
       " 37,\n",
       " 11,\n",
       " 43,\n",
       " 47,\n",
       " 46,\n",
       " 29,\n",
       " 36,\n",
       " 25,\n",
       " 21,\n",
       " 31,\n",
       " 48,\n",
       " 7,\n",
       " 17,\n",
       " 8,\n",
       " 22,\n",
       " 14]"
      ]
     },
     "execution_count": 83,
     "metadata": {},
     "output_type": "execute_result"
    }
   ],
   "source": [
    "byte_scores"
   ]
  },
  {
   "cell_type": "code",
   "execution_count": 84,
   "metadata": {},
   "outputs": [
    {
     "name": "stdout",
     "output_type": "stream",
     "text": [
      "24.32\n",
      "27.6\n"
     ]
    }
   ],
   "source": [
    "up_mean = nm.mean((upgrad_score))\n",
    "by_mean = nm.mean((byte_scores))\n",
    "print(up_mean)\n",
    "print(by_mean)"
   ]
  },
  {
   "cell_type": "code",
   "execution_count": 85,
   "metadata": {},
   "outputs": [
    {
     "name": "stdout",
     "output_type": "stream",
     "text": [
      "13.202181637896064\n"
     ]
    }
   ],
   "source": [
    "list1 = list()\n",
    "for i in range(25):\n",
    "    res = ((upgrad_score[i] - up_mean)**2)\n",
    "    list1.append(res)\n",
    "print(nm.sqrt(sum(list1)/25))\n",
    "up_sd = (nm.sqrt(sum(list1)/25))"
   ]
  },
  {
   "cell_type": "code",
   "execution_count": 76,
   "metadata": {},
   "outputs": [
    {
     "name": "stdout",
     "output_type": "stream",
     "text": [
      "13.278795126064715\n"
     ]
    }
   ],
   "source": [
    "list2 = list()\n",
    "for i in range(25):\n",
    "    res = ((byte_scores[i] - by_mean)**2)\n",
    "    list2.append(res)\n",
    "print(nm.sqrt(sum(list2)/25))\n",
    "by_sd = (nm.sqrt(sum(list2)/25))"
   ]
  },
  {
   "cell_type": "code",
   "execution_count": 86,
   "metadata": {},
   "outputs": [
    {
     "name": "stdout",
     "output_type": "stream",
     "text": [
      "0.5311518050425886\n",
      "0.5280872655158426\n"
     ]
    }
   ],
   "source": [
    "#SE value for both\n",
    "by_se = by_sd/25\n",
    "up_se = up_sd/25\n",
    "print(by_se)\n",
    "print(up_se)"
   ]
  },
  {
   "cell_type": "code",
   "execution_count": 78,
   "metadata": {},
   "outputs": [
    {
     "name": "stdout",
     "output_type": "stream",
     "text": [
      "The value for 24 degree freedom and 95%\n",
      "2.064\n"
     ]
    }
   ],
   "source": [
    "#t values  for a degree of freedom of 24 , and two tail test\n",
    "#95% confidence\n",
    "print(\"The value for 24 degree freedom and 95%\")\n",
    "print(\"2.064\")"
   ]
  },
  {
   "cell_type": "code",
   "execution_count": 79,
   "metadata": {},
   "outputs": [
    {
     "name": "stdout",
     "output_type": "stream",
     "text": [
      "0.7747205947953107\n",
      "0.639999999999997\n"
     ]
    }
   ],
   "source": [
    "#wweighted error\n",
    "fn_se = nm.sqrt((by_se**2)+(up_se**2))\n",
    "fn_mean = ((by_mean - up_mean))  \n",
    "print(fn_se)\n",
    "print(fn_mean)\n"
   ]
  },
  {
   "cell_type": "code",
   "execution_count": 80,
   "metadata": {},
   "outputs": [
    {
     "name": "stdout",
     "output_type": "stream",
     "text": [
      "0.8261042810783824\n"
     ]
    }
   ],
   "source": [
    "fn_v = (fn_mean/fn_se)\n",
    "print(fn_v)"
   ]
  },
  {
   "cell_type": "code",
   "execution_count": 88,
   "metadata": {},
   "outputs": [
    {
     "name": "stdout",
     "output_type": "stream",
     "text": [
      "It has been accepcted as the value of the obtainedt is in the range of the graph\n"
     ]
    }
   ],
   "source": [
    "print(\"It has been accepcted as the value of the obtainedt is in the range of the graph\")"
   ]
  },
  {
   "cell_type": "code",
   "execution_count": 81,
   "metadata": {},
   "outputs": [
    {
     "name": "stdout",
     "output_type": "stream",
     "text": [
      "226.99359999999996\n"
     ]
    }
   ],
   "source": [
    "ua = [1,2,3,4,5]\n",
    "for i in range(len(ua)):\n",
    "    res += (ua[i])\n",
    "print(res)"
   ]
  },
  {
   "cell_type": "code",
   "execution_count": null,
   "metadata": {},
   "outputs": [],
   "source": []
  },
  {
   "cell_type": "code",
   "execution_count": null,
   "metadata": {},
   "outputs": [],
   "source": []
  }
 ],
 "metadata": {
  "kernelspec": {
   "display_name": "Python 3",
   "language": "python",
   "name": "python3"
  },
  "language_info": {
   "codemirror_mode": {
    "name": "ipython",
    "version": 3
   },
   "file_extension": ".py",
   "mimetype": "text/x-python",
   "name": "python",
   "nbconvert_exporter": "python",
   "pygments_lexer": "ipython3",
   "version": "3.6.4"
  }
 },
 "nbformat": 4,
 "nbformat_minor": 2
}
