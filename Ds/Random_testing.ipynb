{
 "cells": [
  {
   "cell_type": "code",
   "execution_count": 74,
   "metadata": {},
   "outputs": [
    {
     "name": "stdout",
     "output_type": "stream",
     "text": [
      "Bob\n",
      "Bob\n",
      "Same\n",
      "Same\n"
     ]
    }
   ],
   "source": [
    "users = [\n",
    "            {\"id\": 0, \"Name\":\"Bob\"},\n",
    "            {\"id\": 1, \"Name\": \"Same\"},\n",
    "            {\"id\": 2, \"Name\": \"Joe\"},\n",
    "            {\"id\": 3, \"Name\": \"Hose\"}\n",
    "            \n",
    "]\n",
    "friend = [(0,1), (0,2), (1,2), (1,3)]\n",
    "for i in users: \n",
    "    for j in friend: \n",
    "        if (j[0] == i['id']):\n",
    "            print(i['Name'])\n",
    "    #for i in friend: \n",
    "       # if(j[user] == i[friend]):\n",
    "           \n",
    "          #print(i['id'])"
   ]
  },
  {
   "cell_type": "code",
   "execution_count": 13,
   "metadata": {},
   "outputs": [
    {
     "name": "stdout",
     "output_type": "stream",
     "text": [
      "{'id': 0, 'Name': 'Bob', 'friend': []}\n",
      "{'id': 1, 'Name': 'Same', 'friend': []}\n",
      "{'id': 2, 'Name': 'Joe', 'friend': []}\n",
      "{'id': 3, 'Name': 'Hose', 'friend': []}\n"
     ]
    },
    {
     "data": {
      "text/plain": [
       "{'Name': 'Hose', 'friend': [], 'id': 3}"
      ]
     },
     "execution_count": 13,
     "metadata": {},
     "output_type": "execute_result"
    }
   ],
   "source": []
  },
  {
   "cell_type": "code",
   "execution_count": null,
   "metadata": {},
   "outputs": [],
   "source": []
  }
 ],
 "metadata": {
  "kernelspec": {
   "display_name": "Python 3",
   "language": "python",
   "name": "python3"
  },
  "language_info": {
   "codemirror_mode": {
    "name": "ipython",
    "version": 3
   },
   "file_extension": ".py",
   "mimetype": "text/x-python",
   "name": "python",
   "nbconvert_exporter": "python",
   "pygments_lexer": "ipython3",
   "version": "3.6.4"
  }
 },
 "nbformat": 4,
 "nbformat_minor": 2
}
